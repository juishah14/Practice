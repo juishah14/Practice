{
 "metadata": {
  "language_info": {
   "codemirror_mode": {
    "name": "ipython",
    "version": 3
   },
   "file_extension": ".py",
   "mimetype": "text/x-python",
   "name": "python",
   "nbconvert_exporter": "python",
   "pygments_lexer": "ipython3",
   "version": "3.9.5"
  },
  "orig_nbformat": 2,
  "kernelspec": {
   "name": "python395jvsc74a57bd0935d2d967c7b146abe11d74f0365db9491fd38ede851107d055df81cd9223742",
   "display_name": "Python 3.9.5 64-bit"
  },
  "metadata": {
   "interpreter": {
    "hash": "935d2d967c7b146abe11d74f0365db9491fd38ede851107d055df81cd9223742"
   }
  }
 },
 "nbformat": 4,
 "nbformat_minor": 2,
 "cells": [
  {
   "source": [
    "Source: https://www.youtube.com/watch?v=vmEHCJofslg&list=PLC69bVSazf4qAZj2aFmsYhAn7FeD6cQ0E&index=2&t=726s&ab_channel=KeithGalli"
   ],
   "cell_type": "markdown",
   "metadata": {}
  },
  {
   "source": [
    "## Loading Data"
   ],
   "cell_type": "markdown",
   "metadata": {}
  },
  {
   "cell_type": "code",
   "execution_count": 2,
   "metadata": {},
   "outputs": [
    {
     "output_type": "execute_result",
     "data": {
      "text/plain": [
       "       #                   Name   Type 1  Type 2  HP  Attack  Defense  \\\n",
       "0      1              Bulbasaur    Grass  Poison  45      49       49   \n",
       "1      2                Ivysaur    Grass  Poison  60      62       63   \n",
       "2      3               Venusaur    Grass  Poison  80      82       83   \n",
       "3      3  VenusaurMega Venusaur    Grass  Poison  80     100      123   \n",
       "4      4             Charmander     Fire     NaN  39      52       43   \n",
       "..   ...                    ...      ...     ...  ..     ...      ...   \n",
       "795  719                Diancie     Rock   Fairy  50     100      150   \n",
       "796  719    DiancieMega Diancie     Rock   Fairy  50     160      110   \n",
       "797  720    HoopaHoopa Confined  Psychic   Ghost  80     110       60   \n",
       "798  720     HoopaHoopa Unbound  Psychic    Dark  80     160       60   \n",
       "799  721              Volcanion     Fire   Water  80     110      120   \n",
       "\n",
       "     Sp. Atk  Sp. Def  Speed  Generation  Legendary  \n",
       "0         65       65     45           1      False  \n",
       "1         80       80     60           1      False  \n",
       "2        100      100     80           1      False  \n",
       "3        122      120     80           1      False  \n",
       "4         60       50     65           1      False  \n",
       "..       ...      ...    ...         ...        ...  \n",
       "795      100      150     50           6       True  \n",
       "796      160      110    110           6       True  \n",
       "797      150      130     70           6       True  \n",
       "798      170      130     80           6       True  \n",
       "799      130       90     70           6       True  \n",
       "\n",
       "[800 rows x 12 columns]"
      ],
      "text/html": "<div>\n<style scoped>\n    .dataframe tbody tr th:only-of-type {\n        vertical-align: middle;\n    }\n\n    .dataframe tbody tr th {\n        vertical-align: top;\n    }\n\n    .dataframe thead th {\n        text-align: right;\n    }\n</style>\n<table border=\"1\" class=\"dataframe\">\n  <thead>\n    <tr style=\"text-align: right;\">\n      <th></th>\n      <th>#</th>\n      <th>Name</th>\n      <th>Type 1</th>\n      <th>Type 2</th>\n      <th>HP</th>\n      <th>Attack</th>\n      <th>Defense</th>\n      <th>Sp. Atk</th>\n      <th>Sp. Def</th>\n      <th>Speed</th>\n      <th>Generation</th>\n      <th>Legendary</th>\n    </tr>\n  </thead>\n  <tbody>\n    <tr>\n      <th>0</th>\n      <td>1</td>\n      <td>Bulbasaur</td>\n      <td>Grass</td>\n      <td>Poison</td>\n      <td>45</td>\n      <td>49</td>\n      <td>49</td>\n      <td>65</td>\n      <td>65</td>\n      <td>45</td>\n      <td>1</td>\n      <td>False</td>\n    </tr>\n    <tr>\n      <th>1</th>\n      <td>2</td>\n      <td>Ivysaur</td>\n      <td>Grass</td>\n      <td>Poison</td>\n      <td>60</td>\n      <td>62</td>\n      <td>63</td>\n      <td>80</td>\n      <td>80</td>\n      <td>60</td>\n      <td>1</td>\n      <td>False</td>\n    </tr>\n    <tr>\n      <th>2</th>\n      <td>3</td>\n      <td>Venusaur</td>\n      <td>Grass</td>\n      <td>Poison</td>\n      <td>80</td>\n      <td>82</td>\n      <td>83</td>\n      <td>100</td>\n      <td>100</td>\n      <td>80</td>\n      <td>1</td>\n      <td>False</td>\n    </tr>\n    <tr>\n      <th>3</th>\n      <td>3</td>\n      <td>VenusaurMega Venusaur</td>\n      <td>Grass</td>\n      <td>Poison</td>\n      <td>80</td>\n      <td>100</td>\n      <td>123</td>\n      <td>122</td>\n      <td>120</td>\n      <td>80</td>\n      <td>1</td>\n      <td>False</td>\n    </tr>\n    <tr>\n      <th>4</th>\n      <td>4</td>\n      <td>Charmander</td>\n      <td>Fire</td>\n      <td>NaN</td>\n      <td>39</td>\n      <td>52</td>\n      <td>43</td>\n      <td>60</td>\n      <td>50</td>\n      <td>65</td>\n      <td>1</td>\n      <td>False</td>\n    </tr>\n    <tr>\n      <th>...</th>\n      <td>...</td>\n      <td>...</td>\n      <td>...</td>\n      <td>...</td>\n      <td>...</td>\n      <td>...</td>\n      <td>...</td>\n      <td>...</td>\n      <td>...</td>\n      <td>...</td>\n      <td>...</td>\n      <td>...</td>\n    </tr>\n    <tr>\n      <th>795</th>\n      <td>719</td>\n      <td>Diancie</td>\n      <td>Rock</td>\n      <td>Fairy</td>\n      <td>50</td>\n      <td>100</td>\n      <td>150</td>\n      <td>100</td>\n      <td>150</td>\n      <td>50</td>\n      <td>6</td>\n      <td>True</td>\n    </tr>\n    <tr>\n      <th>796</th>\n      <td>719</td>\n      <td>DiancieMega Diancie</td>\n      <td>Rock</td>\n      <td>Fairy</td>\n      <td>50</td>\n      <td>160</td>\n      <td>110</td>\n      <td>160</td>\n      <td>110</td>\n      <td>110</td>\n      <td>6</td>\n      <td>True</td>\n    </tr>\n    <tr>\n      <th>797</th>\n      <td>720</td>\n      <td>HoopaHoopa Confined</td>\n      <td>Psychic</td>\n      <td>Ghost</td>\n      <td>80</td>\n      <td>110</td>\n      <td>60</td>\n      <td>150</td>\n      <td>130</td>\n      <td>70</td>\n      <td>6</td>\n      <td>True</td>\n    </tr>\n    <tr>\n      <th>798</th>\n      <td>720</td>\n      <td>HoopaHoopa Unbound</td>\n      <td>Psychic</td>\n      <td>Dark</td>\n      <td>80</td>\n      <td>160</td>\n      <td>60</td>\n      <td>170</td>\n      <td>130</td>\n      <td>80</td>\n      <td>6</td>\n      <td>True</td>\n    </tr>\n    <tr>\n      <th>799</th>\n      <td>721</td>\n      <td>Volcanion</td>\n      <td>Fire</td>\n      <td>Water</td>\n      <td>80</td>\n      <td>110</td>\n      <td>120</td>\n      <td>130</td>\n      <td>90</td>\n      <td>70</td>\n      <td>6</td>\n      <td>True</td>\n    </tr>\n  </tbody>\n</table>\n<p>800 rows × 12 columns</p>\n</div>"
     },
     "metadata": {},
     "execution_count": 2
    }
   ],
   "source": [
    "import pandas as pd\n",
    "\n",
    "df = pd.read_csv('pokemon_data.csv')\n",
    "df # df.head() and #df.tail()"
   ]
  },
  {
   "source": [
    "## Reading Data"
   ],
   "cell_type": "markdown",
   "metadata": {}
  },
  {
   "cell_type": "code",
   "execution_count": 12,
   "metadata": {},
   "outputs": [
    {
     "output_type": "execute_result",
     "data": {
      "text/plain": [
       "#                     1\n",
       "Name          Bulbasaur\n",
       "Type 1            Grass\n",
       "Type 2           Poison\n",
       "HP                   45\n",
       "Attack               49\n",
       "Defense              49\n",
       "Sp. Atk              65\n",
       "Sp. Def              65\n",
       "Speed                45\n",
       "Generation            1\n",
       "Legendary         False\n",
       "Name: 0, dtype: object"
      ]
     },
     "metadata": {},
     "execution_count": 12
    }
   ],
   "source": [
    "df.iloc[0]"
   ]
  },
  {
   "cell_type": "code",
   "execution_count": 7,
   "metadata": {},
   "outputs": [
    {
     "output_type": "execute_result",
     "data": {
      "text/plain": [
       "       #                       Name Type 1    Type 2   HP  Attack  Defense  \\\n",
       "4      4                 Charmander   Fire       NaN   39      52       43   \n",
       "5      5                 Charmeleon   Fire       NaN   58      64       58   \n",
       "6      6                  Charizard   Fire    Flying   78      84       78   \n",
       "7      6  CharizardMega Charizard X   Fire    Dragon   78     130      111   \n",
       "8      6  CharizardMega Charizard Y   Fire    Flying   78     104       78   \n",
       "42    37                     Vulpix   Fire       NaN   38      41       40   \n",
       "43    38                  Ninetales   Fire       NaN   73      76       75   \n",
       "63    58                  Growlithe   Fire       NaN   55      70       45   \n",
       "64    59                   Arcanine   Fire       NaN   90     110       80   \n",
       "83    77                     Ponyta   Fire       NaN   50      85       55   \n",
       "84    78                   Rapidash   Fire       NaN   65     100       70   \n",
       "135  126                     Magmar   Fire       NaN   65      95       57   \n",
       "147  136                    Flareon   Fire       NaN   65     130       60   \n",
       "158  146                    Moltres   Fire    Flying   90     100       90   \n",
       "169  155                  Cyndaquil   Fire       NaN   39      52       43   \n",
       "170  156                    Quilava   Fire       NaN   58      64       58   \n",
       "171  157                 Typhlosion   Fire       NaN   78      84       78   \n",
       "236  218                     Slugma   Fire       NaN   40      40       40   \n",
       "237  219                   Magcargo   Fire      Rock   50      50      120   \n",
       "259  240                      Magby   Fire       NaN   45      75       37   \n",
       "263  244                      Entei   Fire       NaN  115     115       85   \n",
       "270  250                      Ho-oh   Fire    Flying  106     130       90   \n",
       "276  255                    Torchic   Fire       NaN   45      60       40   \n",
       "277  256                  Combusken   Fire  Fighting   60      85       60   \n",
       "278  257                   Blaziken   Fire  Fighting   80     120       70   \n",
       "279  257      BlazikenMega Blaziken   Fire  Fighting   80     160       80   \n",
       "352  322                      Numel   Fire    Ground   60      60       40   \n",
       "353  323                   Camerupt   Fire    Ground   70     100       70   \n",
       "354  323      CameruptMega Camerupt   Fire    Ground   70     120      100   \n",
       "355  324                    Torkoal   Fire       NaN   70      85      140   \n",
       "435  390                   Chimchar   Fire       NaN   44      58       44   \n",
       "436  391                   Monferno   Fire  Fighting   64      78       52   \n",
       "437  392                  Infernape   Fire  Fighting   76     104       71   \n",
       "518  467                  Magmortar   Fire       NaN   75      95       67   \n",
       "542  485                    Heatran   Fire     Steel   91      90      106   \n",
       "557  498                      Tepig   Fire       NaN   65      63       45   \n",
       "558  499                    Pignite   Fire  Fighting   90      93       55   \n",
       "559  500                     Emboar   Fire  Fighting  110     123       65   \n",
       "572  513                    Pansear   Fire       NaN   50      53       48   \n",
       "573  514                   Simisear   Fire       NaN   75      98       63   \n",
       "614  554                   Darumaka   Fire       NaN   70      90       45   \n",
       "615  555    DarmanitanStandard Mode   Fire       NaN  105     140       55   \n",
       "616  555         DarmanitanZen Mode   Fire   Psychic  105      30      105   \n",
       "692  631                    Heatmor   Fire       NaN   85      97       66   \n",
       "721  653                   Fennekin   Fire       NaN   40      45       40   \n",
       "722  654                    Braixen   Fire       NaN   59      59       58   \n",
       "723  655                    Delphox   Fire   Psychic   75      69       72   \n",
       "730  662                Fletchinder   Fire    Flying   62      73       55   \n",
       "731  663                 Talonflame   Fire    Flying   78      81       71   \n",
       "735  667                     Litleo   Fire    Normal   62      50       58   \n",
       "736  668                     Pyroar   Fire    Normal   86      68       72   \n",
       "799  721                  Volcanion   Fire     Water   80     110      120   \n",
       "\n",
       "     Sp. Atk  Sp. Def  Speed  Generation  Legendary  \n",
       "4         60       50     65           1      False  \n",
       "5         80       65     80           1      False  \n",
       "6        109       85    100           1      False  \n",
       "7        130       85    100           1      False  \n",
       "8        159      115    100           1      False  \n",
       "42        50       65     65           1      False  \n",
       "43        81      100    100           1      False  \n",
       "63        70       50     60           1      False  \n",
       "64       100       80     95           1      False  \n",
       "83        65       65     90           1      False  \n",
       "84        80       80    105           1      False  \n",
       "135      100       85     93           1      False  \n",
       "147       95      110     65           1      False  \n",
       "158      125       85     90           1       True  \n",
       "169       60       50     65           2      False  \n",
       "170       80       65     80           2      False  \n",
       "171      109       85    100           2      False  \n",
       "236       70       40     20           2      False  \n",
       "237       80       80     30           2      False  \n",
       "259       70       55     83           2      False  \n",
       "263       90       75    100           2       True  \n",
       "270      110      154     90           2       True  \n",
       "276       70       50     45           3      False  \n",
       "277       85       60     55           3      False  \n",
       "278      110       70     80           3      False  \n",
       "279      130       80    100           3      False  \n",
       "352       65       45     35           3      False  \n",
       "353      105       75     40           3      False  \n",
       "354      145      105     20           3      False  \n",
       "355       85       70     20           3      False  \n",
       "435       58       44     61           4      False  \n",
       "436       78       52     81           4      False  \n",
       "437      104       71    108           4      False  \n",
       "518      125       95     83           4      False  \n",
       "542      130      106     77           4       True  \n",
       "557       45       45     45           5      False  \n",
       "558       70       55     55           5      False  \n",
       "559      100       65     65           5      False  \n",
       "572       53       48     64           5      False  \n",
       "573       98       63    101           5      False  \n",
       "614       15       45     50           5      False  \n",
       "615       30       55     95           5      False  \n",
       "616      140      105     55           5      False  \n",
       "692      105       66     65           5      False  \n",
       "721       62       60     60           6      False  \n",
       "722       90       70     73           6      False  \n",
       "723      114      100    104           6      False  \n",
       "730       56       52     84           6      False  \n",
       "731       74       69    126           6      False  \n",
       "735       73       54     72           6      False  \n",
       "736      109       66    106           6      False  \n",
       "799      130       90     70           6       True  "
      ],
      "text/html": "<div>\n<style scoped>\n    .dataframe tbody tr th:only-of-type {\n        vertical-align: middle;\n    }\n\n    .dataframe tbody tr th {\n        vertical-align: top;\n    }\n\n    .dataframe thead th {\n        text-align: right;\n    }\n</style>\n<table border=\"1\" class=\"dataframe\">\n  <thead>\n    <tr style=\"text-align: right;\">\n      <th></th>\n      <th>#</th>\n      <th>Name</th>\n      <th>Type 1</th>\n      <th>Type 2</th>\n      <th>HP</th>\n      <th>Attack</th>\n      <th>Defense</th>\n      <th>Sp. Atk</th>\n      <th>Sp. Def</th>\n      <th>Speed</th>\n      <th>Generation</th>\n      <th>Legendary</th>\n    </tr>\n  </thead>\n  <tbody>\n    <tr>\n      <th>4</th>\n      <td>4</td>\n      <td>Charmander</td>\n      <td>Fire</td>\n      <td>NaN</td>\n      <td>39</td>\n      <td>52</td>\n      <td>43</td>\n      <td>60</td>\n      <td>50</td>\n      <td>65</td>\n      <td>1</td>\n      <td>False</td>\n    </tr>\n    <tr>\n      <th>5</th>\n      <td>5</td>\n      <td>Charmeleon</td>\n      <td>Fire</td>\n      <td>NaN</td>\n      <td>58</td>\n      <td>64</td>\n      <td>58</td>\n      <td>80</td>\n      <td>65</td>\n      <td>80</td>\n      <td>1</td>\n      <td>False</td>\n    </tr>\n    <tr>\n      <th>6</th>\n      <td>6</td>\n      <td>Charizard</td>\n      <td>Fire</td>\n      <td>Flying</td>\n      <td>78</td>\n      <td>84</td>\n      <td>78</td>\n      <td>109</td>\n      <td>85</td>\n      <td>100</td>\n      <td>1</td>\n      <td>False</td>\n    </tr>\n    <tr>\n      <th>7</th>\n      <td>6</td>\n      <td>CharizardMega Charizard X</td>\n      <td>Fire</td>\n      <td>Dragon</td>\n      <td>78</td>\n      <td>130</td>\n      <td>111</td>\n      <td>130</td>\n      <td>85</td>\n      <td>100</td>\n      <td>1</td>\n      <td>False</td>\n    </tr>\n    <tr>\n      <th>8</th>\n      <td>6</td>\n      <td>CharizardMega Charizard Y</td>\n      <td>Fire</td>\n      <td>Flying</td>\n      <td>78</td>\n      <td>104</td>\n      <td>78</td>\n      <td>159</td>\n      <td>115</td>\n      <td>100</td>\n      <td>1</td>\n      <td>False</td>\n    </tr>\n    <tr>\n      <th>42</th>\n      <td>37</td>\n      <td>Vulpix</td>\n      <td>Fire</td>\n      <td>NaN</td>\n      <td>38</td>\n      <td>41</td>\n      <td>40</td>\n      <td>50</td>\n      <td>65</td>\n      <td>65</td>\n      <td>1</td>\n      <td>False</td>\n    </tr>\n    <tr>\n      <th>43</th>\n      <td>38</td>\n      <td>Ninetales</td>\n      <td>Fire</td>\n      <td>NaN</td>\n      <td>73</td>\n      <td>76</td>\n      <td>75</td>\n      <td>81</td>\n      <td>100</td>\n      <td>100</td>\n      <td>1</td>\n      <td>False</td>\n    </tr>\n    <tr>\n      <th>63</th>\n      <td>58</td>\n      <td>Growlithe</td>\n      <td>Fire</td>\n      <td>NaN</td>\n      <td>55</td>\n      <td>70</td>\n      <td>45</td>\n      <td>70</td>\n      <td>50</td>\n      <td>60</td>\n      <td>1</td>\n      <td>False</td>\n    </tr>\n    <tr>\n      <th>64</th>\n      <td>59</td>\n      <td>Arcanine</td>\n      <td>Fire</td>\n      <td>NaN</td>\n      <td>90</td>\n      <td>110</td>\n      <td>80</td>\n      <td>100</td>\n      <td>80</td>\n      <td>95</td>\n      <td>1</td>\n      <td>False</td>\n    </tr>\n    <tr>\n      <th>83</th>\n      <td>77</td>\n      <td>Ponyta</td>\n      <td>Fire</td>\n      <td>NaN</td>\n      <td>50</td>\n      <td>85</td>\n      <td>55</td>\n      <td>65</td>\n      <td>65</td>\n      <td>90</td>\n      <td>1</td>\n      <td>False</td>\n    </tr>\n    <tr>\n      <th>84</th>\n      <td>78</td>\n      <td>Rapidash</td>\n      <td>Fire</td>\n      <td>NaN</td>\n      <td>65</td>\n      <td>100</td>\n      <td>70</td>\n      <td>80</td>\n      <td>80</td>\n      <td>105</td>\n      <td>1</td>\n      <td>False</td>\n    </tr>\n    <tr>\n      <th>135</th>\n      <td>126</td>\n      <td>Magmar</td>\n      <td>Fire</td>\n      <td>NaN</td>\n      <td>65</td>\n      <td>95</td>\n      <td>57</td>\n      <td>100</td>\n      <td>85</td>\n      <td>93</td>\n      <td>1</td>\n      <td>False</td>\n    </tr>\n    <tr>\n      <th>147</th>\n      <td>136</td>\n      <td>Flareon</td>\n      <td>Fire</td>\n      <td>NaN</td>\n      <td>65</td>\n      <td>130</td>\n      <td>60</td>\n      <td>95</td>\n      <td>110</td>\n      <td>65</td>\n      <td>1</td>\n      <td>False</td>\n    </tr>\n    <tr>\n      <th>158</th>\n      <td>146</td>\n      <td>Moltres</td>\n      <td>Fire</td>\n      <td>Flying</td>\n      <td>90</td>\n      <td>100</td>\n      <td>90</td>\n      <td>125</td>\n      <td>85</td>\n      <td>90</td>\n      <td>1</td>\n      <td>True</td>\n    </tr>\n    <tr>\n      <th>169</th>\n      <td>155</td>\n      <td>Cyndaquil</td>\n      <td>Fire</td>\n      <td>NaN</td>\n      <td>39</td>\n      <td>52</td>\n      <td>43</td>\n      <td>60</td>\n      <td>50</td>\n      <td>65</td>\n      <td>2</td>\n      <td>False</td>\n    </tr>\n    <tr>\n      <th>170</th>\n      <td>156</td>\n      <td>Quilava</td>\n      <td>Fire</td>\n      <td>NaN</td>\n      <td>58</td>\n      <td>64</td>\n      <td>58</td>\n      <td>80</td>\n      <td>65</td>\n      <td>80</td>\n      <td>2</td>\n      <td>False</td>\n    </tr>\n    <tr>\n      <th>171</th>\n      <td>157</td>\n      <td>Typhlosion</td>\n      <td>Fire</td>\n      <td>NaN</td>\n      <td>78</td>\n      <td>84</td>\n      <td>78</td>\n      <td>109</td>\n      <td>85</td>\n      <td>100</td>\n      <td>2</td>\n      <td>False</td>\n    </tr>\n    <tr>\n      <th>236</th>\n      <td>218</td>\n      <td>Slugma</td>\n      <td>Fire</td>\n      <td>NaN</td>\n      <td>40</td>\n      <td>40</td>\n      <td>40</td>\n      <td>70</td>\n      <td>40</td>\n      <td>20</td>\n      <td>2</td>\n      <td>False</td>\n    </tr>\n    <tr>\n      <th>237</th>\n      <td>219</td>\n      <td>Magcargo</td>\n      <td>Fire</td>\n      <td>Rock</td>\n      <td>50</td>\n      <td>50</td>\n      <td>120</td>\n      <td>80</td>\n      <td>80</td>\n      <td>30</td>\n      <td>2</td>\n      <td>False</td>\n    </tr>\n    <tr>\n      <th>259</th>\n      <td>240</td>\n      <td>Magby</td>\n      <td>Fire</td>\n      <td>NaN</td>\n      <td>45</td>\n      <td>75</td>\n      <td>37</td>\n      <td>70</td>\n      <td>55</td>\n      <td>83</td>\n      <td>2</td>\n      <td>False</td>\n    </tr>\n    <tr>\n      <th>263</th>\n      <td>244</td>\n      <td>Entei</td>\n      <td>Fire</td>\n      <td>NaN</td>\n      <td>115</td>\n      <td>115</td>\n      <td>85</td>\n      <td>90</td>\n      <td>75</td>\n      <td>100</td>\n      <td>2</td>\n      <td>True</td>\n    </tr>\n    <tr>\n      <th>270</th>\n      <td>250</td>\n      <td>Ho-oh</td>\n      <td>Fire</td>\n      <td>Flying</td>\n      <td>106</td>\n      <td>130</td>\n      <td>90</td>\n      <td>110</td>\n      <td>154</td>\n      <td>90</td>\n      <td>2</td>\n      <td>True</td>\n    </tr>\n    <tr>\n      <th>276</th>\n      <td>255</td>\n      <td>Torchic</td>\n      <td>Fire</td>\n      <td>NaN</td>\n      <td>45</td>\n      <td>60</td>\n      <td>40</td>\n      <td>70</td>\n      <td>50</td>\n      <td>45</td>\n      <td>3</td>\n      <td>False</td>\n    </tr>\n    <tr>\n      <th>277</th>\n      <td>256</td>\n      <td>Combusken</td>\n      <td>Fire</td>\n      <td>Fighting</td>\n      <td>60</td>\n      <td>85</td>\n      <td>60</td>\n      <td>85</td>\n      <td>60</td>\n      <td>55</td>\n      <td>3</td>\n      <td>False</td>\n    </tr>\n    <tr>\n      <th>278</th>\n      <td>257</td>\n      <td>Blaziken</td>\n      <td>Fire</td>\n      <td>Fighting</td>\n      <td>80</td>\n      <td>120</td>\n      <td>70</td>\n      <td>110</td>\n      <td>70</td>\n      <td>80</td>\n      <td>3</td>\n      <td>False</td>\n    </tr>\n    <tr>\n      <th>279</th>\n      <td>257</td>\n      <td>BlazikenMega Blaziken</td>\n      <td>Fire</td>\n      <td>Fighting</td>\n      <td>80</td>\n      <td>160</td>\n      <td>80</td>\n      <td>130</td>\n      <td>80</td>\n      <td>100</td>\n      <td>3</td>\n      <td>False</td>\n    </tr>\n    <tr>\n      <th>352</th>\n      <td>322</td>\n      <td>Numel</td>\n      <td>Fire</td>\n      <td>Ground</td>\n      <td>60</td>\n      <td>60</td>\n      <td>40</td>\n      <td>65</td>\n      <td>45</td>\n      <td>35</td>\n      <td>3</td>\n      <td>False</td>\n    </tr>\n    <tr>\n      <th>353</th>\n      <td>323</td>\n      <td>Camerupt</td>\n      <td>Fire</td>\n      <td>Ground</td>\n      <td>70</td>\n      <td>100</td>\n      <td>70</td>\n      <td>105</td>\n      <td>75</td>\n      <td>40</td>\n      <td>3</td>\n      <td>False</td>\n    </tr>\n    <tr>\n      <th>354</th>\n      <td>323</td>\n      <td>CameruptMega Camerupt</td>\n      <td>Fire</td>\n      <td>Ground</td>\n      <td>70</td>\n      <td>120</td>\n      <td>100</td>\n      <td>145</td>\n      <td>105</td>\n      <td>20</td>\n      <td>3</td>\n      <td>False</td>\n    </tr>\n    <tr>\n      <th>355</th>\n      <td>324</td>\n      <td>Torkoal</td>\n      <td>Fire</td>\n      <td>NaN</td>\n      <td>70</td>\n      <td>85</td>\n      <td>140</td>\n      <td>85</td>\n      <td>70</td>\n      <td>20</td>\n      <td>3</td>\n      <td>False</td>\n    </tr>\n    <tr>\n      <th>435</th>\n      <td>390</td>\n      <td>Chimchar</td>\n      <td>Fire</td>\n      <td>NaN</td>\n      <td>44</td>\n      <td>58</td>\n      <td>44</td>\n      <td>58</td>\n      <td>44</td>\n      <td>61</td>\n      <td>4</td>\n      <td>False</td>\n    </tr>\n    <tr>\n      <th>436</th>\n      <td>391</td>\n      <td>Monferno</td>\n      <td>Fire</td>\n      <td>Fighting</td>\n      <td>64</td>\n      <td>78</td>\n      <td>52</td>\n      <td>78</td>\n      <td>52</td>\n      <td>81</td>\n      <td>4</td>\n      <td>False</td>\n    </tr>\n    <tr>\n      <th>437</th>\n      <td>392</td>\n      <td>Infernape</td>\n      <td>Fire</td>\n      <td>Fighting</td>\n      <td>76</td>\n      <td>104</td>\n      <td>71</td>\n      <td>104</td>\n      <td>71</td>\n      <td>108</td>\n      <td>4</td>\n      <td>False</td>\n    </tr>\n    <tr>\n      <th>518</th>\n      <td>467</td>\n      <td>Magmortar</td>\n      <td>Fire</td>\n      <td>NaN</td>\n      <td>75</td>\n      <td>95</td>\n      <td>67</td>\n      <td>125</td>\n      <td>95</td>\n      <td>83</td>\n      <td>4</td>\n      <td>False</td>\n    </tr>\n    <tr>\n      <th>542</th>\n      <td>485</td>\n      <td>Heatran</td>\n      <td>Fire</td>\n      <td>Steel</td>\n      <td>91</td>\n      <td>90</td>\n      <td>106</td>\n      <td>130</td>\n      <td>106</td>\n      <td>77</td>\n      <td>4</td>\n      <td>True</td>\n    </tr>\n    <tr>\n      <th>557</th>\n      <td>498</td>\n      <td>Tepig</td>\n      <td>Fire</td>\n      <td>NaN</td>\n      <td>65</td>\n      <td>63</td>\n      <td>45</td>\n      <td>45</td>\n      <td>45</td>\n      <td>45</td>\n      <td>5</td>\n      <td>False</td>\n    </tr>\n    <tr>\n      <th>558</th>\n      <td>499</td>\n      <td>Pignite</td>\n      <td>Fire</td>\n      <td>Fighting</td>\n      <td>90</td>\n      <td>93</td>\n      <td>55</td>\n      <td>70</td>\n      <td>55</td>\n      <td>55</td>\n      <td>5</td>\n      <td>False</td>\n    </tr>\n    <tr>\n      <th>559</th>\n      <td>500</td>\n      <td>Emboar</td>\n      <td>Fire</td>\n      <td>Fighting</td>\n      <td>110</td>\n      <td>123</td>\n      <td>65</td>\n      <td>100</td>\n      <td>65</td>\n      <td>65</td>\n      <td>5</td>\n      <td>False</td>\n    </tr>\n    <tr>\n      <th>572</th>\n      <td>513</td>\n      <td>Pansear</td>\n      <td>Fire</td>\n      <td>NaN</td>\n      <td>50</td>\n      <td>53</td>\n      <td>48</td>\n      <td>53</td>\n      <td>48</td>\n      <td>64</td>\n      <td>5</td>\n      <td>False</td>\n    </tr>\n    <tr>\n      <th>573</th>\n      <td>514</td>\n      <td>Simisear</td>\n      <td>Fire</td>\n      <td>NaN</td>\n      <td>75</td>\n      <td>98</td>\n      <td>63</td>\n      <td>98</td>\n      <td>63</td>\n      <td>101</td>\n      <td>5</td>\n      <td>False</td>\n    </tr>\n    <tr>\n      <th>614</th>\n      <td>554</td>\n      <td>Darumaka</td>\n      <td>Fire</td>\n      <td>NaN</td>\n      <td>70</td>\n      <td>90</td>\n      <td>45</td>\n      <td>15</td>\n      <td>45</td>\n      <td>50</td>\n      <td>5</td>\n      <td>False</td>\n    </tr>\n    <tr>\n      <th>615</th>\n      <td>555</td>\n      <td>DarmanitanStandard Mode</td>\n      <td>Fire</td>\n      <td>NaN</td>\n      <td>105</td>\n      <td>140</td>\n      <td>55</td>\n      <td>30</td>\n      <td>55</td>\n      <td>95</td>\n      <td>5</td>\n      <td>False</td>\n    </tr>\n    <tr>\n      <th>616</th>\n      <td>555</td>\n      <td>DarmanitanZen Mode</td>\n      <td>Fire</td>\n      <td>Psychic</td>\n      <td>105</td>\n      <td>30</td>\n      <td>105</td>\n      <td>140</td>\n      <td>105</td>\n      <td>55</td>\n      <td>5</td>\n      <td>False</td>\n    </tr>\n    <tr>\n      <th>692</th>\n      <td>631</td>\n      <td>Heatmor</td>\n      <td>Fire</td>\n      <td>NaN</td>\n      <td>85</td>\n      <td>97</td>\n      <td>66</td>\n      <td>105</td>\n      <td>66</td>\n      <td>65</td>\n      <td>5</td>\n      <td>False</td>\n    </tr>\n    <tr>\n      <th>721</th>\n      <td>653</td>\n      <td>Fennekin</td>\n      <td>Fire</td>\n      <td>NaN</td>\n      <td>40</td>\n      <td>45</td>\n      <td>40</td>\n      <td>62</td>\n      <td>60</td>\n      <td>60</td>\n      <td>6</td>\n      <td>False</td>\n    </tr>\n    <tr>\n      <th>722</th>\n      <td>654</td>\n      <td>Braixen</td>\n      <td>Fire</td>\n      <td>NaN</td>\n      <td>59</td>\n      <td>59</td>\n      <td>58</td>\n      <td>90</td>\n      <td>70</td>\n      <td>73</td>\n      <td>6</td>\n      <td>False</td>\n    </tr>\n    <tr>\n      <th>723</th>\n      <td>655</td>\n      <td>Delphox</td>\n      <td>Fire</td>\n      <td>Psychic</td>\n      <td>75</td>\n      <td>69</td>\n      <td>72</td>\n      <td>114</td>\n      <td>100</td>\n      <td>104</td>\n      <td>6</td>\n      <td>False</td>\n    </tr>\n    <tr>\n      <th>730</th>\n      <td>662</td>\n      <td>Fletchinder</td>\n      <td>Fire</td>\n      <td>Flying</td>\n      <td>62</td>\n      <td>73</td>\n      <td>55</td>\n      <td>56</td>\n      <td>52</td>\n      <td>84</td>\n      <td>6</td>\n      <td>False</td>\n    </tr>\n    <tr>\n      <th>731</th>\n      <td>663</td>\n      <td>Talonflame</td>\n      <td>Fire</td>\n      <td>Flying</td>\n      <td>78</td>\n      <td>81</td>\n      <td>71</td>\n      <td>74</td>\n      <td>69</td>\n      <td>126</td>\n      <td>6</td>\n      <td>False</td>\n    </tr>\n    <tr>\n      <th>735</th>\n      <td>667</td>\n      <td>Litleo</td>\n      <td>Fire</td>\n      <td>Normal</td>\n      <td>62</td>\n      <td>50</td>\n      <td>58</td>\n      <td>73</td>\n      <td>54</td>\n      <td>72</td>\n      <td>6</td>\n      <td>False</td>\n    </tr>\n    <tr>\n      <th>736</th>\n      <td>668</td>\n      <td>Pyroar</td>\n      <td>Fire</td>\n      <td>Normal</td>\n      <td>86</td>\n      <td>68</td>\n      <td>72</td>\n      <td>109</td>\n      <td>66</td>\n      <td>106</td>\n      <td>6</td>\n      <td>False</td>\n    </tr>\n    <tr>\n      <th>799</th>\n      <td>721</td>\n      <td>Volcanion</td>\n      <td>Fire</td>\n      <td>Water</td>\n      <td>80</td>\n      <td>110</td>\n      <td>120</td>\n      <td>130</td>\n      <td>90</td>\n      <td>70</td>\n      <td>6</td>\n      <td>True</td>\n    </tr>\n  </tbody>\n</table>\n</div>"
     },
     "metadata": {},
     "execution_count": 7
    }
   ],
   "source": [
    "# Read Headers\n",
    "df.columns\n",
    "\n",
    "# Read a Column\n",
    "df['Name']\n",
    "\n",
    "# Read Certain Rows for a Column\n",
    "df['Speed'][0:10]\n",
    "\n",
    "# Read Multiple Columns\n",
    "df[['Name', 'Attack', 'Legendary']]\n",
    "\n",
    "# Read a Certain Row\n",
    "df.iloc[0] # iloc is int location ie. index\n",
    "df.iloc[0:4]\n",
    "\n",
    "# Read a Specific Location (R, C)\n",
    "df.iloc[2, 1]\n",
    "\n",
    "# There is also df.loc to find data that isn't integer based (based on more textual info)\n",
    "df.loc[df['Type 1'] == 'Grass']\n",
    "df.loc[(df['Type 1'] == 'Grass') & (df['Type 2'] == 'Poison')] # could use or ( | ) instead as well\n"
   ]
  },
  {
   "cell_type": "code",
   "execution_count": 67,
   "metadata": {},
   "outputs": [],
   "source": [
    "# Iterate through Each Row\n",
    "for index, row in df.iterrows():\n",
    "    print(index, row['Name']) # or could do just row"
   ]
  },
  {
   "source": [
    "## Sorting/Describing Data"
   ],
   "cell_type": "markdown",
   "metadata": {}
  },
  {
   "cell_type": "code",
   "execution_count": 13,
   "metadata": {},
   "outputs": [
    {
     "output_type": "execute_result",
     "data": {
      "text/plain": [
       "       #                     Name   Type 1  Type 2   HP  Attack  Defense  \\\n",
       "510  460                Abomasnow    Grass     Ice   90      92       75   \n",
       "511  460  AbomasnowMega Abomasnow    Grass     Ice   90     132      105   \n",
       "68    63                     Abra  Psychic     NaN   25      20       15   \n",
       "392  359                    Absol     Dark     NaN   65     130       60   \n",
       "393  359          AbsolMega Absol     Dark     NaN   65     150       60   \n",
       "..   ...                      ...      ...     ...  ...     ...      ...   \n",
       "632  571                  Zoroark     Dark     NaN   60     105       60   \n",
       "631  570                    Zorua     Dark     NaN   40      65       40   \n",
       "46    41                    Zubat   Poison  Flying   40      45       35   \n",
       "695  634                 Zweilous     Dark  Dragon   72      85       70   \n",
       "794  718         Zygarde50% Forme   Dragon  Ground  108     100      121   \n",
       "\n",
       "     Sp. Atk  Sp. Def  Speed  Generation  Legendary  \n",
       "510       92       85     60           4      False  \n",
       "511      132      105     30           4      False  \n",
       "68       105       55     90           1      False  \n",
       "392       75       60     75           3      False  \n",
       "393      115       60    115           3      False  \n",
       "..       ...      ...    ...         ...        ...  \n",
       "632      120       60    105           5      False  \n",
       "631       80       40     65           5      False  \n",
       "46        30       40     55           1      False  \n",
       "695       65       70     58           5      False  \n",
       "794       81       95     95           6       True  \n",
       "\n",
       "[800 rows x 12 columns]"
      ],
      "text/html": "<div>\n<style scoped>\n    .dataframe tbody tr th:only-of-type {\n        vertical-align: middle;\n    }\n\n    .dataframe tbody tr th {\n        vertical-align: top;\n    }\n\n    .dataframe thead th {\n        text-align: right;\n    }\n</style>\n<table border=\"1\" class=\"dataframe\">\n  <thead>\n    <tr style=\"text-align: right;\">\n      <th></th>\n      <th>#</th>\n      <th>Name</th>\n      <th>Type 1</th>\n      <th>Type 2</th>\n      <th>HP</th>\n      <th>Attack</th>\n      <th>Defense</th>\n      <th>Sp. Atk</th>\n      <th>Sp. Def</th>\n      <th>Speed</th>\n      <th>Generation</th>\n      <th>Legendary</th>\n    </tr>\n  </thead>\n  <tbody>\n    <tr>\n      <th>510</th>\n      <td>460</td>\n      <td>Abomasnow</td>\n      <td>Grass</td>\n      <td>Ice</td>\n      <td>90</td>\n      <td>92</td>\n      <td>75</td>\n      <td>92</td>\n      <td>85</td>\n      <td>60</td>\n      <td>4</td>\n      <td>False</td>\n    </tr>\n    <tr>\n      <th>511</th>\n      <td>460</td>\n      <td>AbomasnowMega Abomasnow</td>\n      <td>Grass</td>\n      <td>Ice</td>\n      <td>90</td>\n      <td>132</td>\n      <td>105</td>\n      <td>132</td>\n      <td>105</td>\n      <td>30</td>\n      <td>4</td>\n      <td>False</td>\n    </tr>\n    <tr>\n      <th>68</th>\n      <td>63</td>\n      <td>Abra</td>\n      <td>Psychic</td>\n      <td>NaN</td>\n      <td>25</td>\n      <td>20</td>\n      <td>15</td>\n      <td>105</td>\n      <td>55</td>\n      <td>90</td>\n      <td>1</td>\n      <td>False</td>\n    </tr>\n    <tr>\n      <th>392</th>\n      <td>359</td>\n      <td>Absol</td>\n      <td>Dark</td>\n      <td>NaN</td>\n      <td>65</td>\n      <td>130</td>\n      <td>60</td>\n      <td>75</td>\n      <td>60</td>\n      <td>75</td>\n      <td>3</td>\n      <td>False</td>\n    </tr>\n    <tr>\n      <th>393</th>\n      <td>359</td>\n      <td>AbsolMega Absol</td>\n      <td>Dark</td>\n      <td>NaN</td>\n      <td>65</td>\n      <td>150</td>\n      <td>60</td>\n      <td>115</td>\n      <td>60</td>\n      <td>115</td>\n      <td>3</td>\n      <td>False</td>\n    </tr>\n    <tr>\n      <th>...</th>\n      <td>...</td>\n      <td>...</td>\n      <td>...</td>\n      <td>...</td>\n      <td>...</td>\n      <td>...</td>\n      <td>...</td>\n      <td>...</td>\n      <td>...</td>\n      <td>...</td>\n      <td>...</td>\n      <td>...</td>\n    </tr>\n    <tr>\n      <th>632</th>\n      <td>571</td>\n      <td>Zoroark</td>\n      <td>Dark</td>\n      <td>NaN</td>\n      <td>60</td>\n      <td>105</td>\n      <td>60</td>\n      <td>120</td>\n      <td>60</td>\n      <td>105</td>\n      <td>5</td>\n      <td>False</td>\n    </tr>\n    <tr>\n      <th>631</th>\n      <td>570</td>\n      <td>Zorua</td>\n      <td>Dark</td>\n      <td>NaN</td>\n      <td>40</td>\n      <td>65</td>\n      <td>40</td>\n      <td>80</td>\n      <td>40</td>\n      <td>65</td>\n      <td>5</td>\n      <td>False</td>\n    </tr>\n    <tr>\n      <th>46</th>\n      <td>41</td>\n      <td>Zubat</td>\n      <td>Poison</td>\n      <td>Flying</td>\n      <td>40</td>\n      <td>45</td>\n      <td>35</td>\n      <td>30</td>\n      <td>40</td>\n      <td>55</td>\n      <td>1</td>\n      <td>False</td>\n    </tr>\n    <tr>\n      <th>695</th>\n      <td>634</td>\n      <td>Zweilous</td>\n      <td>Dark</td>\n      <td>Dragon</td>\n      <td>72</td>\n      <td>85</td>\n      <td>70</td>\n      <td>65</td>\n      <td>70</td>\n      <td>58</td>\n      <td>5</td>\n      <td>False</td>\n    </tr>\n    <tr>\n      <th>794</th>\n      <td>718</td>\n      <td>Zygarde50% Forme</td>\n      <td>Dragon</td>\n      <td>Ground</td>\n      <td>108</td>\n      <td>100</td>\n      <td>121</td>\n      <td>81</td>\n      <td>95</td>\n      <td>95</td>\n      <td>6</td>\n      <td>True</td>\n    </tr>\n  </tbody>\n</table>\n<p>800 rows × 12 columns</p>\n</div>"
     },
     "metadata": {},
     "execution_count": 13
    }
   ],
   "source": [
    "# Basic Stats\n",
    "df.describe()\n",
    "\n",
    "# Sorted by Alphabetical Value; passing in column we want to sort\n",
    "df.sort_values('Name')\n",
    "\n",
    "# If we wanted opposite of Alphabetical value\n",
    "df.sort_values('Name', ascending = False)\n",
    "\n",
    "# If we want more than one sort parameter\n",
    "# Or could do [1, 0] instead of [True, False]\n",
    "# If you do just True or False it will sort both columns that way\n",
    "df.sort_values(['Name', 'HP'], ascending = [True, False]) "
   ]
  },
  {
   "source": [
    "## Making Changes to the Data"
   ],
   "cell_type": "markdown",
   "metadata": {}
  },
  {
   "source": [
    "### Adding + Removing Columns"
   ],
   "cell_type": "markdown",
   "metadata": {}
  },
  {
   "cell_type": "code",
   "execution_count": 17,
   "metadata": {},
   "outputs": [
    {
     "output_type": "execute_result",
     "data": {
      "text/plain": [
       "   #       Name Type 1  Type 2  HP  Attack  Defense  Sp. Atk  Sp. Def  Speed  \\\n",
       "0  1  Bulbasaur  Grass  Poison  45      49       49       65       65     45   \n",
       "1  2    Ivysaur  Grass  Poison  60      62       63       80       80     60   \n",
       "2  3   Venusaur  Grass  Poison  80      82       83      100      100     80   \n",
       "\n",
       "   Generation  Legendary  \n",
       "0           1      False  \n",
       "1           1      False  \n",
       "2           1      False  "
      ],
      "text/html": "<div>\n<style scoped>\n    .dataframe tbody tr th:only-of-type {\n        vertical-align: middle;\n    }\n\n    .dataframe tbody tr th {\n        vertical-align: top;\n    }\n\n    .dataframe thead th {\n        text-align: right;\n    }\n</style>\n<table border=\"1\" class=\"dataframe\">\n  <thead>\n    <tr style=\"text-align: right;\">\n      <th></th>\n      <th>#</th>\n      <th>Name</th>\n      <th>Type 1</th>\n      <th>Type 2</th>\n      <th>HP</th>\n      <th>Attack</th>\n      <th>Defense</th>\n      <th>Sp. Atk</th>\n      <th>Sp. Def</th>\n      <th>Speed</th>\n      <th>Generation</th>\n      <th>Legendary</th>\n    </tr>\n  </thead>\n  <tbody>\n    <tr>\n      <th>0</th>\n      <td>1</td>\n      <td>Bulbasaur</td>\n      <td>Grass</td>\n      <td>Poison</td>\n      <td>45</td>\n      <td>49</td>\n      <td>49</td>\n      <td>65</td>\n      <td>65</td>\n      <td>45</td>\n      <td>1</td>\n      <td>False</td>\n    </tr>\n    <tr>\n      <th>1</th>\n      <td>2</td>\n      <td>Ivysaur</td>\n      <td>Grass</td>\n      <td>Poison</td>\n      <td>60</td>\n      <td>62</td>\n      <td>63</td>\n      <td>80</td>\n      <td>80</td>\n      <td>60</td>\n      <td>1</td>\n      <td>False</td>\n    </tr>\n    <tr>\n      <th>2</th>\n      <td>3</td>\n      <td>Venusaur</td>\n      <td>Grass</td>\n      <td>Poison</td>\n      <td>80</td>\n      <td>82</td>\n      <td>83</td>\n      <td>100</td>\n      <td>100</td>\n      <td>80</td>\n      <td>1</td>\n      <td>False</td>\n    </tr>\n  </tbody>\n</table>\n</div>"
     },
     "metadata": {},
     "execution_count": 17
    }
   ],
   "source": [
    "# Will add up dif stats (values from HP, Attack, Defense, etc)\n",
    "# Could potentially use this total to determine which is the best pokemon\n",
    "# This is not the fastest way to do, but is easiest to read\n",
    "\n",
    "# ADDING A COLUMN\n",
    "df['Total'] = df['HP'] + df['Attack'] + df['Defense'] + df['Sp. Atk'] + df['Sp. Def'] + df['Speed']\n",
    "\n",
    "df.head(3)\n",
    "\n",
    "# REMOVING A COLUMN\n",
    "df = df.drop(columns = ['Total'])\n",
    "\n",
    "df.head(3)"
   ]
  },
  {
   "source": [
    "### Adding Columns - Faster"
   ],
   "cell_type": "markdown",
   "metadata": {}
  },
  {
   "cell_type": "code",
   "execution_count": 21,
   "metadata": {},
   "outputs": [
    {
     "output_type": "execute_result",
     "data": {
      "text/plain": [
       "   #       Name Type 1  Type 2  HP  Attack  Defense  Sp. Atk  Sp. Def  Speed  \\\n",
       "0  1  Bulbasaur  Grass  Poison  45      49       49       65       65     45   \n",
       "1  2    Ivysaur  Grass  Poison  60      62       63       80       80     60   \n",
       "2  3   Venusaur  Grass  Poison  80      82       83      100      100     80   \n",
       "\n",
       "   Generation  Legendary  Total  \n",
       "0           1      False    318  \n",
       "1           1      False    405  \n",
       "2           1      False    525  "
      ],
      "text/html": "<div>\n<style scoped>\n    .dataframe tbody tr th:only-of-type {\n        vertical-align: middle;\n    }\n\n    .dataframe tbody tr th {\n        vertical-align: top;\n    }\n\n    .dataframe thead th {\n        text-align: right;\n    }\n</style>\n<table border=\"1\" class=\"dataframe\">\n  <thead>\n    <tr style=\"text-align: right;\">\n      <th></th>\n      <th>#</th>\n      <th>Name</th>\n      <th>Type 1</th>\n      <th>Type 2</th>\n      <th>HP</th>\n      <th>Attack</th>\n      <th>Defense</th>\n      <th>Sp. Atk</th>\n      <th>Sp. Def</th>\n      <th>Speed</th>\n      <th>Generation</th>\n      <th>Legendary</th>\n      <th>Total</th>\n    </tr>\n  </thead>\n  <tbody>\n    <tr>\n      <th>0</th>\n      <td>1</td>\n      <td>Bulbasaur</td>\n      <td>Grass</td>\n      <td>Poison</td>\n      <td>45</td>\n      <td>49</td>\n      <td>49</td>\n      <td>65</td>\n      <td>65</td>\n      <td>45</td>\n      <td>1</td>\n      <td>False</td>\n      <td>318</td>\n    </tr>\n    <tr>\n      <th>1</th>\n      <td>2</td>\n      <td>Ivysaur</td>\n      <td>Grass</td>\n      <td>Poison</td>\n      <td>60</td>\n      <td>62</td>\n      <td>63</td>\n      <td>80</td>\n      <td>80</td>\n      <td>60</td>\n      <td>1</td>\n      <td>False</td>\n      <td>405</td>\n    </tr>\n    <tr>\n      <th>2</th>\n      <td>3</td>\n      <td>Venusaur</td>\n      <td>Grass</td>\n      <td>Poison</td>\n      <td>80</td>\n      <td>82</td>\n      <td>83</td>\n      <td>100</td>\n      <td>100</td>\n      <td>80</td>\n      <td>1</td>\n      <td>False</td>\n      <td>525</td>\n    </tr>\n  </tbody>\n</table>\n</div>"
     },
     "metadata": {},
     "execution_count": 21
    }
   ],
   "source": [
    "# Recall \" : \" means all rows\n",
    "# Adding columns 4-10 (not including 10) ie. HP, Attack, Defense etc\n",
    "# Axis = 1 to specify adding horizontally\n",
    "# This is the faster way to add the column\n",
    "\n",
    "# ADDING A COLUMN- FASTER\n",
    "df['Total'] = df.iloc[:, 4:10].sum(axis = 1)\n",
    "\n",
    "df.head(3)"
   ]
  },
  {
   "source": [
    "### Rearranging Columns"
   ],
   "cell_type": "markdown",
   "metadata": {}
  },
  {
   "cell_type": "code",
   "execution_count": 42,
   "metadata": {},
   "outputs": [
    {
     "output_type": "execute_result",
     "data": {
      "text/plain": [
       "   #       Name Type 1  Type 2  Legendary  Total  HP  Attack  Defense  \\\n",
       "0  1  Bulbasaur  Grass  Poison      False    318  45      49       49   \n",
       "1  2    Ivysaur  Grass  Poison      False    405  60      62       63   \n",
       "2  3   Venusaur  Grass  Poison      False    525  80      82       83   \n",
       "\n",
       "   Sp. Atk  Sp. Def  Speed  Generation  \n",
       "0       65       65     45           1  \n",
       "1       80       80     60           1  \n",
       "2      100      100     80           1  "
      ],
      "text/html": "<div>\n<style scoped>\n    .dataframe tbody tr th:only-of-type {\n        vertical-align: middle;\n    }\n\n    .dataframe tbody tr th {\n        vertical-align: top;\n    }\n\n    .dataframe thead th {\n        text-align: right;\n    }\n</style>\n<table border=\"1\" class=\"dataframe\">\n  <thead>\n    <tr style=\"text-align: right;\">\n      <th></th>\n      <th>#</th>\n      <th>Name</th>\n      <th>Type 1</th>\n      <th>Type 2</th>\n      <th>Legendary</th>\n      <th>Total</th>\n      <th>HP</th>\n      <th>Attack</th>\n      <th>Defense</th>\n      <th>Sp. Atk</th>\n      <th>Sp. Def</th>\n      <th>Speed</th>\n      <th>Generation</th>\n    </tr>\n  </thead>\n  <tbody>\n    <tr>\n      <th>0</th>\n      <td>1</td>\n      <td>Bulbasaur</td>\n      <td>Grass</td>\n      <td>Poison</td>\n      <td>False</td>\n      <td>318</td>\n      <td>45</td>\n      <td>49</td>\n      <td>49</td>\n      <td>65</td>\n      <td>65</td>\n      <td>45</td>\n      <td>1</td>\n    </tr>\n    <tr>\n      <th>1</th>\n      <td>2</td>\n      <td>Ivysaur</td>\n      <td>Grass</td>\n      <td>Poison</td>\n      <td>False</td>\n      <td>405</td>\n      <td>60</td>\n      <td>62</td>\n      <td>63</td>\n      <td>80</td>\n      <td>80</td>\n      <td>60</td>\n      <td>1</td>\n    </tr>\n    <tr>\n      <th>2</th>\n      <td>3</td>\n      <td>Venusaur</td>\n      <td>Grass</td>\n      <td>Poison</td>\n      <td>False</td>\n      <td>525</td>\n      <td>80</td>\n      <td>82</td>\n      <td>83</td>\n      <td>100</td>\n      <td>100</td>\n      <td>80</td>\n      <td>1</td>\n    </tr>\n  </tbody>\n</table>\n</div>"
     },
     "metadata": {},
     "execution_count": 42
    }
   ],
   "source": [
    "# Get all columns as a list\n",
    "cols = list(df.columns)\n",
    "\n",
    "# Going to rearrange df to have Total column before HP column\n",
    "# Note: cols[0:4] - #, Name, Type 1, Type 2\n",
    "# Note: cols[-1] - Total\n",
    "# Note: cols[4:12] - HP, Attack, Defense, Sp. Atk, Sp. Def, Speed, Generation, Legendary\n",
    "# Since cols[-1] is just one value we get it as a string. But we can only concatenate lists with lists so convert col[-1] from str to list by adding brackets around it\n",
    "\n",
    "df = df[cols[0:4] + [cols[-1]] + cols[4:12]]\n",
    "\n",
    "df.head(3)"
   ]
  },
  {
   "source": [
    "## Filtering Data"
   ],
   "cell_type": "markdown",
   "metadata": {}
  },
  {
   "source": [
    "### Basic Filtering"
   ],
   "cell_type": "markdown",
   "metadata": {}
  },
  {
   "cell_type": "code",
   "execution_count": 48,
   "metadata": {},
   "outputs": [
    {
     "output_type": "execute_result",
     "data": {
      "text/plain": [
       "     index    #                   Name   Type 1  Type 2  Legendary  Total  \\\n",
       "0        0    1              Bulbasaur    Grass  Poison      False    318   \n",
       "1        1    2                Ivysaur    Grass  Poison      False    405   \n",
       "2        2    3               Venusaur    Grass  Poison      False    525   \n",
       "3        3    3  VenusaurMega Venusaur    Grass  Poison      False    625   \n",
       "4        6    6              Charizard     Fire  Flying      False    534   \n",
       "..     ...  ...                    ...      ...     ...        ...    ...   \n",
       "359    793  717                Yveltal     Dark  Flying       True    680   \n",
       "360    794  718       Zygarde50% Forme   Dragon  Ground       True    600   \n",
       "361    797  720    HoopaHoopa Confined  Psychic   Ghost       True    600   \n",
       "362    798  720     HoopaHoopa Unbound  Psychic    Dark       True    680   \n",
       "363    799  721              Volcanion     Fire   Water       True    600   \n",
       "\n",
       "      HP  Attack  Defense  Sp. Atk  Sp. Def  Speed  Generation  \n",
       "0     45      49       49       65       65     45           1  \n",
       "1     60      62       63       80       80     60           1  \n",
       "2     80      82       83      100      100     80           1  \n",
       "3     80     100      123      122      120     80           1  \n",
       "4     78      84       78      109       85    100           1  \n",
       "..   ...     ...      ...      ...      ...    ...         ...  \n",
       "359  126     131       95      131       98     99           6  \n",
       "360  108     100      121       81       95     95           6  \n",
       "361   80     110       60      150      130     70           6  \n",
       "362   80     160       60      170      130     80           6  \n",
       "363   80     110      120      130       90     70           6  \n",
       "\n",
       "[364 rows x 14 columns]"
      ],
      "text/html": "<div>\n<style scoped>\n    .dataframe tbody tr th:only-of-type {\n        vertical-align: middle;\n    }\n\n    .dataframe tbody tr th {\n        vertical-align: top;\n    }\n\n    .dataframe thead th {\n        text-align: right;\n    }\n</style>\n<table border=\"1\" class=\"dataframe\">\n  <thead>\n    <tr style=\"text-align: right;\">\n      <th></th>\n      <th>index</th>\n      <th>#</th>\n      <th>Name</th>\n      <th>Type 1</th>\n      <th>Type 2</th>\n      <th>Legendary</th>\n      <th>Total</th>\n      <th>HP</th>\n      <th>Attack</th>\n      <th>Defense</th>\n      <th>Sp. Atk</th>\n      <th>Sp. Def</th>\n      <th>Speed</th>\n      <th>Generation</th>\n    </tr>\n  </thead>\n  <tbody>\n    <tr>\n      <th>0</th>\n      <td>0</td>\n      <td>1</td>\n      <td>Bulbasaur</td>\n      <td>Grass</td>\n      <td>Poison</td>\n      <td>False</td>\n      <td>318</td>\n      <td>45</td>\n      <td>49</td>\n      <td>49</td>\n      <td>65</td>\n      <td>65</td>\n      <td>45</td>\n      <td>1</td>\n    </tr>\n    <tr>\n      <th>1</th>\n      <td>1</td>\n      <td>2</td>\n      <td>Ivysaur</td>\n      <td>Grass</td>\n      <td>Poison</td>\n      <td>False</td>\n      <td>405</td>\n      <td>60</td>\n      <td>62</td>\n      <td>63</td>\n      <td>80</td>\n      <td>80</td>\n      <td>60</td>\n      <td>1</td>\n    </tr>\n    <tr>\n      <th>2</th>\n      <td>2</td>\n      <td>3</td>\n      <td>Venusaur</td>\n      <td>Grass</td>\n      <td>Poison</td>\n      <td>False</td>\n      <td>525</td>\n      <td>80</td>\n      <td>82</td>\n      <td>83</td>\n      <td>100</td>\n      <td>100</td>\n      <td>80</td>\n      <td>1</td>\n    </tr>\n    <tr>\n      <th>3</th>\n      <td>3</td>\n      <td>3</td>\n      <td>VenusaurMega Venusaur</td>\n      <td>Grass</td>\n      <td>Poison</td>\n      <td>False</td>\n      <td>625</td>\n      <td>80</td>\n      <td>100</td>\n      <td>123</td>\n      <td>122</td>\n      <td>120</td>\n      <td>80</td>\n      <td>1</td>\n    </tr>\n    <tr>\n      <th>4</th>\n      <td>6</td>\n      <td>6</td>\n      <td>Charizard</td>\n      <td>Fire</td>\n      <td>Flying</td>\n      <td>False</td>\n      <td>534</td>\n      <td>78</td>\n      <td>84</td>\n      <td>78</td>\n      <td>109</td>\n      <td>85</td>\n      <td>100</td>\n      <td>1</td>\n    </tr>\n    <tr>\n      <th>...</th>\n      <td>...</td>\n      <td>...</td>\n      <td>...</td>\n      <td>...</td>\n      <td>...</td>\n      <td>...</td>\n      <td>...</td>\n      <td>...</td>\n      <td>...</td>\n      <td>...</td>\n      <td>...</td>\n      <td>...</td>\n      <td>...</td>\n      <td>...</td>\n    </tr>\n    <tr>\n      <th>359</th>\n      <td>793</td>\n      <td>717</td>\n      <td>Yveltal</td>\n      <td>Dark</td>\n      <td>Flying</td>\n      <td>True</td>\n      <td>680</td>\n      <td>126</td>\n      <td>131</td>\n      <td>95</td>\n      <td>131</td>\n      <td>98</td>\n      <td>99</td>\n      <td>6</td>\n    </tr>\n    <tr>\n      <th>360</th>\n      <td>794</td>\n      <td>718</td>\n      <td>Zygarde50% Forme</td>\n      <td>Dragon</td>\n      <td>Ground</td>\n      <td>True</td>\n      <td>600</td>\n      <td>108</td>\n      <td>100</td>\n      <td>121</td>\n      <td>81</td>\n      <td>95</td>\n      <td>95</td>\n      <td>6</td>\n    </tr>\n    <tr>\n      <th>361</th>\n      <td>797</td>\n      <td>720</td>\n      <td>HoopaHoopa Confined</td>\n      <td>Psychic</td>\n      <td>Ghost</td>\n      <td>True</td>\n      <td>600</td>\n      <td>80</td>\n      <td>110</td>\n      <td>60</td>\n      <td>150</td>\n      <td>130</td>\n      <td>70</td>\n      <td>6</td>\n    </tr>\n    <tr>\n      <th>362</th>\n      <td>798</td>\n      <td>720</td>\n      <td>HoopaHoopa Unbound</td>\n      <td>Psychic</td>\n      <td>Dark</td>\n      <td>True</td>\n      <td>680</td>\n      <td>80</td>\n      <td>160</td>\n      <td>60</td>\n      <td>170</td>\n      <td>130</td>\n      <td>80</td>\n      <td>6</td>\n    </tr>\n    <tr>\n      <th>363</th>\n      <td>799</td>\n      <td>721</td>\n      <td>Volcanion</td>\n      <td>Fire</td>\n      <td>Water</td>\n      <td>True</td>\n      <td>600</td>\n      <td>80</td>\n      <td>110</td>\n      <td>120</td>\n      <td>130</td>\n      <td>90</td>\n      <td>70</td>\n      <td>6</td>\n    </tr>\n  </tbody>\n</table>\n<p>364 rows × 14 columns</p>\n</div>"
     },
     "metadata": {},
     "execution_count": 48
    }
   ],
   "source": [
    "# Mentioned this earlier\n",
    "df.loc[(df['Type 1'] == 'Grass') | (df['HP'] > 70)] # could use and (&) instead as well\n",
    "\n",
    "# Could also save this to a new df\n",
    "filtered_df = df.loc[(df['Type 1'] == 'Grass') | (df['HP'] > 70)]\n",
    "filtered_df = filtered_df.reset_index() # resetting index\n",
    "# or could do filtered_df.reset_index(drop = True, inplace = True) and then do not have to do filtered_df = filtered_df....\n",
    "# ie reset the index in place without having to create new df\n",
    "filtered_df\n"
   ]
  },
  {
   "source": [
    "### Regex Filtering (filter based on textual patterns)"
   ],
   "cell_type": "markdown",
   "metadata": {}
  },
  {
   "cell_type": "code",
   "execution_count": 53,
   "metadata": {},
   "outputs": [
    {
     "output_type": "execute_result",
     "data": {
      "text/plain": [
       "   #       Name Type 1  Type 2  Legendary  Total  HP  Attack  Defense  \\\n",
       "0  1  Bulbasaur  Grass  Poison      False    318  45      49       49   \n",
       "1  2    Ivysaur  Grass  Poison      False    405  60      62       63   \n",
       "2  3   Venusaur  Grass  Poison      False    525  80      82       83   \n",
       "\n",
       "   Sp. Atk  Sp. Def  Speed  Generation  \n",
       "0       65       65     45           1  \n",
       "1       80       80     60           1  \n",
       "2      100      100     80           1  "
      ],
      "text/html": "<div>\n<style scoped>\n    .dataframe tbody tr th:only-of-type {\n        vertical-align: middle;\n    }\n\n    .dataframe tbody tr th {\n        vertical-align: top;\n    }\n\n    .dataframe thead th {\n        text-align: right;\n    }\n</style>\n<table border=\"1\" class=\"dataframe\">\n  <thead>\n    <tr style=\"text-align: right;\">\n      <th></th>\n      <th>#</th>\n      <th>Name</th>\n      <th>Type 1</th>\n      <th>Type 2</th>\n      <th>Legendary</th>\n      <th>Total</th>\n      <th>HP</th>\n      <th>Attack</th>\n      <th>Defense</th>\n      <th>Sp. Atk</th>\n      <th>Sp. Def</th>\n      <th>Speed</th>\n      <th>Generation</th>\n    </tr>\n  </thead>\n  <tbody>\n    <tr>\n      <th>0</th>\n      <td>1</td>\n      <td>Bulbasaur</td>\n      <td>Grass</td>\n      <td>Poison</td>\n      <td>False</td>\n      <td>318</td>\n      <td>45</td>\n      <td>49</td>\n      <td>49</td>\n      <td>65</td>\n      <td>65</td>\n      <td>45</td>\n      <td>1</td>\n    </tr>\n    <tr>\n      <th>1</th>\n      <td>2</td>\n      <td>Ivysaur</td>\n      <td>Grass</td>\n      <td>Poison</td>\n      <td>False</td>\n      <td>405</td>\n      <td>60</td>\n      <td>62</td>\n      <td>63</td>\n      <td>80</td>\n      <td>80</td>\n      <td>60</td>\n      <td>1</td>\n    </tr>\n    <tr>\n      <th>2</th>\n      <td>3</td>\n      <td>Venusaur</td>\n      <td>Grass</td>\n      <td>Poison</td>\n      <td>False</td>\n      <td>525</td>\n      <td>80</td>\n      <td>82</td>\n      <td>83</td>\n      <td>100</td>\n      <td>100</td>\n      <td>80</td>\n      <td>1</td>\n    </tr>\n  </tbody>\n</table>\n</div>"
     },
     "metadata": {},
     "execution_count": 53
    }
   ],
   "source": [
    "df.loc[df['Name'].str.contains('Mega')]\n",
    "\n",
    "# or (~ gives NOT instead of !)\n",
    "\n",
    "df.loc[~df['Name'].str.contains('Mega')].head(3)"
   ]
  },
  {
   "cell_type": "code",
   "execution_count": 57,
   "metadata": {},
   "outputs": [
    {
     "output_type": "execute_result",
     "data": {
      "text/plain": [
       "     #       Name  Type 1  Type 2  Legendary  Total  HP  Attack  Defense  \\\n",
       "20  16     Pidgey  Normal  Flying      False    251  40      45       40   \n",
       "21  17  Pidgeotto  Normal  Flying      False    349  63      60       55   \n",
       "22  18    Pidgeot  Normal  Flying      False    479  83      80       75   \n",
       "\n",
       "    Sp. Atk  Sp. Def  Speed  Generation  \n",
       "20       35       35     56           1  \n",
       "21       50       50     71           1  \n",
       "22       70       70    101           1  "
      ],
      "text/html": "<div>\n<style scoped>\n    .dataframe tbody tr th:only-of-type {\n        vertical-align: middle;\n    }\n\n    .dataframe tbody tr th {\n        vertical-align: top;\n    }\n\n    .dataframe thead th {\n        text-align: right;\n    }\n</style>\n<table border=\"1\" class=\"dataframe\">\n  <thead>\n    <tr style=\"text-align: right;\">\n      <th></th>\n      <th>#</th>\n      <th>Name</th>\n      <th>Type 1</th>\n      <th>Type 2</th>\n      <th>Legendary</th>\n      <th>Total</th>\n      <th>HP</th>\n      <th>Attack</th>\n      <th>Defense</th>\n      <th>Sp. Atk</th>\n      <th>Sp. Def</th>\n      <th>Speed</th>\n      <th>Generation</th>\n    </tr>\n  </thead>\n  <tbody>\n    <tr>\n      <th>20</th>\n      <td>16</td>\n      <td>Pidgey</td>\n      <td>Normal</td>\n      <td>Flying</td>\n      <td>False</td>\n      <td>251</td>\n      <td>40</td>\n      <td>45</td>\n      <td>40</td>\n      <td>35</td>\n      <td>35</td>\n      <td>56</td>\n      <td>1</td>\n    </tr>\n    <tr>\n      <th>21</th>\n      <td>17</td>\n      <td>Pidgeotto</td>\n      <td>Normal</td>\n      <td>Flying</td>\n      <td>False</td>\n      <td>349</td>\n      <td>63</td>\n      <td>60</td>\n      <td>55</td>\n      <td>50</td>\n      <td>50</td>\n      <td>71</td>\n      <td>1</td>\n    </tr>\n    <tr>\n      <th>22</th>\n      <td>18</td>\n      <td>Pidgeot</td>\n      <td>Normal</td>\n      <td>Flying</td>\n      <td>False</td>\n      <td>479</td>\n      <td>83</td>\n      <td>80</td>\n      <td>75</td>\n      <td>70</td>\n      <td>70</td>\n      <td>101</td>\n      <td>1</td>\n    </tr>\n  </tbody>\n</table>\n</div>"
     },
     "metadata": {},
     "execution_count": 57
    }
   ],
   "source": [
    "import re\n",
    "# using regular expressions here\n",
    "\n",
    "# flags = re.I is to ignore case (uppercase vs lowercase)\n",
    "df.loc[df['Type 1'].str.contains('fire|grass', regex = True, flags = re.I)]\n",
    "\n",
    "# getting pokemons that start w Pi (eg. Pikachu)\n",
    "df.loc[df['Name'].str.contains('^pi[a-z]*', regex = True, flags = re.I)].head(3)\n"
   ]
  },
  {
   "source": [
    " ## Conditional Changes"
   ],
   "cell_type": "markdown",
   "metadata": {}
  },
  {
   "cell_type": "code",
   "execution_count": 65,
   "metadata": {},
   "outputs": [],
   "source": [
    "# Want to call Fire types Flamers instead\n",
    "df.loc[df['Type 1'] == 'Fire', 'Type 1'] = 'Flamer'  \n",
    "\n",
    "# Or for all pokemon with type 1 = psychic, they will be legendary\n",
    "df.loc[df['Type  1'] == 'Psychic', 'Legendary'] = True"
   ]
  },
  {
   "cell_type": "code",
   "execution_count": 70,
   "metadata": {},
   "outputs": [
    {
     "output_type": "execute_result",
     "data": {
      "text/plain": [
       "       #                   Name   Type 1  Type 2   Legendary  Total  HP  \\\n",
       "0      1              Bulbasaur    Grass  Poison       False    318  45   \n",
       "1      2                Ivysaur    Grass  Poison       False    405  60   \n",
       "2      3               Venusaur    Grass  Poison  Test Val 2    525  80   \n",
       "3      3  VenusaurMega Venusaur    Grass  Poison  Test Val 2    625  80   \n",
       "4      4             Charmander   Flamer     NaN       False    309  39   \n",
       "..   ...                    ...      ...     ...         ...    ...  ..   \n",
       "795  719                Diancie     Rock   Fairy  Test Val 2    600  50   \n",
       "796  719    DiancieMega Diancie     Rock   Fairy  Test Val 2    700  50   \n",
       "797  720    HoopaHoopa Confined  Psychic   Ghost  Test Val 2    600  80   \n",
       "798  720     HoopaHoopa Unbound  Psychic    Dark  Test Val 2    680  80   \n",
       "799  721              Volcanion   Flamer   Water  Test Val 2    600  80   \n",
       "\n",
       "     Attack  Defense  Sp. Atk  Sp. Def  Speed  Generation  \n",
       "0        49       49       65       65     45           1  \n",
       "1        62       63       80       80     60           1  \n",
       "2        82       83      100      100     80  Test Val 1  \n",
       "3       100      123      122      120     80  Test Val 1  \n",
       "4        52       43       60       50     65           1  \n",
       "..      ...      ...      ...      ...    ...         ...  \n",
       "795     100      150      100      150     50  Test Val 1  \n",
       "796     160      110      160      110    110  Test Val 1  \n",
       "797     110       60      150      130     70  Test Val 1  \n",
       "798     160       60      170      130     80  Test Val 1  \n",
       "799     110      120      130       90     70  Test Val 1  \n",
       "\n",
       "[800 rows x 13 columns]"
      ],
      "text/html": "<div>\n<style scoped>\n    .dataframe tbody tr th:only-of-type {\n        vertical-align: middle;\n    }\n\n    .dataframe tbody tr th {\n        vertical-align: top;\n    }\n\n    .dataframe thead th {\n        text-align: right;\n    }\n</style>\n<table border=\"1\" class=\"dataframe\">\n  <thead>\n    <tr style=\"text-align: right;\">\n      <th></th>\n      <th>#</th>\n      <th>Name</th>\n      <th>Type 1</th>\n      <th>Type 2</th>\n      <th>Legendary</th>\n      <th>Total</th>\n      <th>HP</th>\n      <th>Attack</th>\n      <th>Defense</th>\n      <th>Sp. Atk</th>\n      <th>Sp. Def</th>\n      <th>Speed</th>\n      <th>Generation</th>\n    </tr>\n  </thead>\n  <tbody>\n    <tr>\n      <th>0</th>\n      <td>1</td>\n      <td>Bulbasaur</td>\n      <td>Grass</td>\n      <td>Poison</td>\n      <td>False</td>\n      <td>318</td>\n      <td>45</td>\n      <td>49</td>\n      <td>49</td>\n      <td>65</td>\n      <td>65</td>\n      <td>45</td>\n      <td>1</td>\n    </tr>\n    <tr>\n      <th>1</th>\n      <td>2</td>\n      <td>Ivysaur</td>\n      <td>Grass</td>\n      <td>Poison</td>\n      <td>False</td>\n      <td>405</td>\n      <td>60</td>\n      <td>62</td>\n      <td>63</td>\n      <td>80</td>\n      <td>80</td>\n      <td>60</td>\n      <td>1</td>\n    </tr>\n    <tr>\n      <th>2</th>\n      <td>3</td>\n      <td>Venusaur</td>\n      <td>Grass</td>\n      <td>Poison</td>\n      <td>Test Val 2</td>\n      <td>525</td>\n      <td>80</td>\n      <td>82</td>\n      <td>83</td>\n      <td>100</td>\n      <td>100</td>\n      <td>80</td>\n      <td>Test Val 1</td>\n    </tr>\n    <tr>\n      <th>3</th>\n      <td>3</td>\n      <td>VenusaurMega Venusaur</td>\n      <td>Grass</td>\n      <td>Poison</td>\n      <td>Test Val 2</td>\n      <td>625</td>\n      <td>80</td>\n      <td>100</td>\n      <td>123</td>\n      <td>122</td>\n      <td>120</td>\n      <td>80</td>\n      <td>Test Val 1</td>\n    </tr>\n    <tr>\n      <th>4</th>\n      <td>4</td>\n      <td>Charmander</td>\n      <td>Flamer</td>\n      <td>NaN</td>\n      <td>False</td>\n      <td>309</td>\n      <td>39</td>\n      <td>52</td>\n      <td>43</td>\n      <td>60</td>\n      <td>50</td>\n      <td>65</td>\n      <td>1</td>\n    </tr>\n    <tr>\n      <th>...</th>\n      <td>...</td>\n      <td>...</td>\n      <td>...</td>\n      <td>...</td>\n      <td>...</td>\n      <td>...</td>\n      <td>...</td>\n      <td>...</td>\n      <td>...</td>\n      <td>...</td>\n      <td>...</td>\n      <td>...</td>\n      <td>...</td>\n    </tr>\n    <tr>\n      <th>795</th>\n      <td>719</td>\n      <td>Diancie</td>\n      <td>Rock</td>\n      <td>Fairy</td>\n      <td>Test Val 2</td>\n      <td>600</td>\n      <td>50</td>\n      <td>100</td>\n      <td>150</td>\n      <td>100</td>\n      <td>150</td>\n      <td>50</td>\n      <td>Test Val 1</td>\n    </tr>\n    <tr>\n      <th>796</th>\n      <td>719</td>\n      <td>DiancieMega Diancie</td>\n      <td>Rock</td>\n      <td>Fairy</td>\n      <td>Test Val 2</td>\n      <td>700</td>\n      <td>50</td>\n      <td>160</td>\n      <td>110</td>\n      <td>160</td>\n      <td>110</td>\n      <td>110</td>\n      <td>Test Val 1</td>\n    </tr>\n    <tr>\n      <th>797</th>\n      <td>720</td>\n      <td>HoopaHoopa Confined</td>\n      <td>Psychic</td>\n      <td>Ghost</td>\n      <td>Test Val 2</td>\n      <td>600</td>\n      <td>80</td>\n      <td>110</td>\n      <td>60</td>\n      <td>150</td>\n      <td>130</td>\n      <td>70</td>\n      <td>Test Val 1</td>\n    </tr>\n    <tr>\n      <th>798</th>\n      <td>720</td>\n      <td>HoopaHoopa Unbound</td>\n      <td>Psychic</td>\n      <td>Dark</td>\n      <td>Test Val 2</td>\n      <td>680</td>\n      <td>80</td>\n      <td>160</td>\n      <td>60</td>\n      <td>170</td>\n      <td>130</td>\n      <td>80</td>\n      <td>Test Val 1</td>\n    </tr>\n    <tr>\n      <th>799</th>\n      <td>721</td>\n      <td>Volcanion</td>\n      <td>Flamer</td>\n      <td>Water</td>\n      <td>Test Val 2</td>\n      <td>600</td>\n      <td>80</td>\n      <td>110</td>\n      <td>120</td>\n      <td>130</td>\n      <td>90</td>\n      <td>70</td>\n      <td>Test Val 1</td>\n    </tr>\n  </tbody>\n</table>\n<p>800 rows × 13 columns</p>\n</div>"
     },
     "metadata": {},
     "execution_count": 70
    }
   ],
   "source": [
    "# If we want to change multiple parameters at a time\n",
    "df.loc[df['Total'] > 500, ['Generation', 'Legendary']] = ['Test Val 1', 'Test Val 2']\n",
    "df"
   ]
  },
  {
   "source": [
    "## Aggregate Stats (Groupby)"
   ],
   "cell_type": "markdown",
   "metadata": {}
  },
  {
   "cell_type": "code",
   "execution_count": 78,
   "metadata": {},
   "outputs": [
    {
     "output_type": "execute_result",
     "data": {
      "text/plain": [
       "                   #       Total         HP      Attack     Defense  \\\n",
       "Type 1                                                                \n",
       "Bug       334.492754  378.927536  56.884058   70.971014   70.724638   \n",
       "Dark      461.354839  445.741935  66.806452   88.387097   70.225806   \n",
       "Dragon    474.375000  550.531250  83.312500  112.125000   86.375000   \n",
       "Electric  363.500000  443.409091  59.795455   69.090909   66.295455   \n",
       "Fairy     449.529412  413.176471  74.117647   61.529412   65.705882   \n",
       "...              ...         ...        ...         ...         ...   \n",
       "Poison    251.785714  399.142857  67.250000   74.678571   68.821429   \n",
       "Psychic   380.807018  475.947368  70.631579   71.456140   67.684211   \n",
       "Rock      392.727273  453.750000  65.363636   92.863636  100.795455   \n",
       "Steel     442.851852  487.703704  65.222222   92.703704  126.370370   \n",
       "Water     303.089286  430.455357  72.062500   74.151786   72.946429   \n",
       "\n",
       "            Sp. Atk    Sp. Def      Speed  count  \n",
       "Type 1                                            \n",
       "Bug       53.869565  64.797101  61.681159    1.0  \n",
       "Dark      74.645161  69.516129  76.161290    1.0  \n",
       "Dragon    96.843750  88.843750  83.031250    1.0  \n",
       "Electric  90.022727  73.704545  84.500000    1.0  \n",
       "Fairy     78.529412  84.705882  48.588235    1.0  \n",
       "...             ...        ...        ...    ...  \n",
       "Poison    60.428571  64.392857  63.571429    1.0  \n",
       "Psychic   98.403509  86.280702  81.491228    1.0  \n",
       "Rock      63.340909  75.477273  55.909091    1.0  \n",
       "Steel     67.518519  80.629630  55.259259    1.0  \n",
       "Water     74.812500  70.517857  65.964286    1.0  \n",
       "\n",
       "[18 rows x 9 columns]"
      ],
      "text/html": "<div>\n<style scoped>\n    .dataframe tbody tr th:only-of-type {\n        vertical-align: middle;\n    }\n\n    .dataframe tbody tr th {\n        vertical-align: top;\n    }\n\n    .dataframe thead th {\n        text-align: right;\n    }\n</style>\n<table border=\"1\" class=\"dataframe\">\n  <thead>\n    <tr style=\"text-align: right;\">\n      <th></th>\n      <th>#</th>\n      <th>Total</th>\n      <th>HP</th>\n      <th>Attack</th>\n      <th>Defense</th>\n      <th>Sp. Atk</th>\n      <th>Sp. Def</th>\n      <th>Speed</th>\n      <th>count</th>\n    </tr>\n    <tr>\n      <th>Type 1</th>\n      <th></th>\n      <th></th>\n      <th></th>\n      <th></th>\n      <th></th>\n      <th></th>\n      <th></th>\n      <th></th>\n      <th></th>\n    </tr>\n  </thead>\n  <tbody>\n    <tr>\n      <th>Bug</th>\n      <td>334.492754</td>\n      <td>378.927536</td>\n      <td>56.884058</td>\n      <td>70.971014</td>\n      <td>70.724638</td>\n      <td>53.869565</td>\n      <td>64.797101</td>\n      <td>61.681159</td>\n      <td>1.0</td>\n    </tr>\n    <tr>\n      <th>Dark</th>\n      <td>461.354839</td>\n      <td>445.741935</td>\n      <td>66.806452</td>\n      <td>88.387097</td>\n      <td>70.225806</td>\n      <td>74.645161</td>\n      <td>69.516129</td>\n      <td>76.161290</td>\n      <td>1.0</td>\n    </tr>\n    <tr>\n      <th>Dragon</th>\n      <td>474.375000</td>\n      <td>550.531250</td>\n      <td>83.312500</td>\n      <td>112.125000</td>\n      <td>86.375000</td>\n      <td>96.843750</td>\n      <td>88.843750</td>\n      <td>83.031250</td>\n      <td>1.0</td>\n    </tr>\n    <tr>\n      <th>Electric</th>\n      <td>363.500000</td>\n      <td>443.409091</td>\n      <td>59.795455</td>\n      <td>69.090909</td>\n      <td>66.295455</td>\n      <td>90.022727</td>\n      <td>73.704545</td>\n      <td>84.500000</td>\n      <td>1.0</td>\n    </tr>\n    <tr>\n      <th>Fairy</th>\n      <td>449.529412</td>\n      <td>413.176471</td>\n      <td>74.117647</td>\n      <td>61.529412</td>\n      <td>65.705882</td>\n      <td>78.529412</td>\n      <td>84.705882</td>\n      <td>48.588235</td>\n      <td>1.0</td>\n    </tr>\n    <tr>\n      <th>...</th>\n      <td>...</td>\n      <td>...</td>\n      <td>...</td>\n      <td>...</td>\n      <td>...</td>\n      <td>...</td>\n      <td>...</td>\n      <td>...</td>\n      <td>...</td>\n    </tr>\n    <tr>\n      <th>Poison</th>\n      <td>251.785714</td>\n      <td>399.142857</td>\n      <td>67.250000</td>\n      <td>74.678571</td>\n      <td>68.821429</td>\n      <td>60.428571</td>\n      <td>64.392857</td>\n      <td>63.571429</td>\n      <td>1.0</td>\n    </tr>\n    <tr>\n      <th>Psychic</th>\n      <td>380.807018</td>\n      <td>475.947368</td>\n      <td>70.631579</td>\n      <td>71.456140</td>\n      <td>67.684211</td>\n      <td>98.403509</td>\n      <td>86.280702</td>\n      <td>81.491228</td>\n      <td>1.0</td>\n    </tr>\n    <tr>\n      <th>Rock</th>\n      <td>392.727273</td>\n      <td>453.750000</td>\n      <td>65.363636</td>\n      <td>92.863636</td>\n      <td>100.795455</td>\n      <td>63.340909</td>\n      <td>75.477273</td>\n      <td>55.909091</td>\n      <td>1.0</td>\n    </tr>\n    <tr>\n      <th>Steel</th>\n      <td>442.851852</td>\n      <td>487.703704</td>\n      <td>65.222222</td>\n      <td>92.703704</td>\n      <td>126.370370</td>\n      <td>67.518519</td>\n      <td>80.629630</td>\n      <td>55.259259</td>\n      <td>1.0</td>\n    </tr>\n    <tr>\n      <th>Water</th>\n      <td>303.089286</td>\n      <td>430.455357</td>\n      <td>72.062500</td>\n      <td>74.151786</td>\n      <td>72.946429</td>\n      <td>74.812500</td>\n      <td>70.517857</td>\n      <td>65.964286</td>\n      <td>1.0</td>\n    </tr>\n  </tbody>\n</table>\n<p>18 rows × 9 columns</p>\n</div>"
     },
     "metadata": {},
     "execution_count": 78
    }
   ],
   "source": [
    "df.groupby(['Type 1']).mean()"
   ]
  },
  {
   "cell_type": "code",
   "execution_count": 79,
   "metadata": {},
   "outputs": [
    {
     "output_type": "execute_result",
     "data": {
      "text/plain": [
       "              #  Total    HP  Attack  Defense  Sp. Atk  Sp. Def  Speed  count\n",
       "Type 1                                                                       \n",
       "Bug       23080  26146  3925    4897     4880     3717     4471   4256     69\n",
       "Dark      14302  13818  2071    2740     2177     2314     2155   2361     31\n",
       "Dragon    15180  17617  2666    3588     2764     3099     2843   2657     32\n",
       "Electric  15994  19510  2631    3040     2917     3961     3243   3718     44\n",
       "Fairy      7642   7024  1260    1046     1117     1335     1440    826     17\n",
       "...         ...    ...   ...     ...      ...      ...      ...    ...    ...\n",
       "Poison     7050  11176  1883    2091     1927     1692     1803   1780     28\n",
       "Psychic   21706  27129  4026    4073     3858     5609     4918   4645     57\n",
       "Rock      17280  19965  2876    4086     4435     2787     3321   2460     44\n",
       "Steel     11957  13168  1761    2503     3412     1823     2177   1492     27\n",
       "Water     33946  48211  8071    8305     8170     8379     7898   7388    112\n",
       "\n",
       "[18 rows x 9 columns]"
      ],
      "text/html": "<div>\n<style scoped>\n    .dataframe tbody tr th:only-of-type {\n        vertical-align: middle;\n    }\n\n    .dataframe tbody tr th {\n        vertical-align: top;\n    }\n\n    .dataframe thead th {\n        text-align: right;\n    }\n</style>\n<table border=\"1\" class=\"dataframe\">\n  <thead>\n    <tr style=\"text-align: right;\">\n      <th></th>\n      <th>#</th>\n      <th>Total</th>\n      <th>HP</th>\n      <th>Attack</th>\n      <th>Defense</th>\n      <th>Sp. Atk</th>\n      <th>Sp. Def</th>\n      <th>Speed</th>\n      <th>count</th>\n    </tr>\n    <tr>\n      <th>Type 1</th>\n      <th></th>\n      <th></th>\n      <th></th>\n      <th></th>\n      <th></th>\n      <th></th>\n      <th></th>\n      <th></th>\n      <th></th>\n    </tr>\n  </thead>\n  <tbody>\n    <tr>\n      <th>Bug</th>\n      <td>23080</td>\n      <td>26146</td>\n      <td>3925</td>\n      <td>4897</td>\n      <td>4880</td>\n      <td>3717</td>\n      <td>4471</td>\n      <td>4256</td>\n      <td>69</td>\n    </tr>\n    <tr>\n      <th>Dark</th>\n      <td>14302</td>\n      <td>13818</td>\n      <td>2071</td>\n      <td>2740</td>\n      <td>2177</td>\n      <td>2314</td>\n      <td>2155</td>\n      <td>2361</td>\n      <td>31</td>\n    </tr>\n    <tr>\n      <th>Dragon</th>\n      <td>15180</td>\n      <td>17617</td>\n      <td>2666</td>\n      <td>3588</td>\n      <td>2764</td>\n      <td>3099</td>\n      <td>2843</td>\n      <td>2657</td>\n      <td>32</td>\n    </tr>\n    <tr>\n      <th>Electric</th>\n      <td>15994</td>\n      <td>19510</td>\n      <td>2631</td>\n      <td>3040</td>\n      <td>2917</td>\n      <td>3961</td>\n      <td>3243</td>\n      <td>3718</td>\n      <td>44</td>\n    </tr>\n    <tr>\n      <th>Fairy</th>\n      <td>7642</td>\n      <td>7024</td>\n      <td>1260</td>\n      <td>1046</td>\n      <td>1117</td>\n      <td>1335</td>\n      <td>1440</td>\n      <td>826</td>\n      <td>17</td>\n    </tr>\n    <tr>\n      <th>...</th>\n      <td>...</td>\n      <td>...</td>\n      <td>...</td>\n      <td>...</td>\n      <td>...</td>\n      <td>...</td>\n      <td>...</td>\n      <td>...</td>\n      <td>...</td>\n    </tr>\n    <tr>\n      <th>Poison</th>\n      <td>7050</td>\n      <td>11176</td>\n      <td>1883</td>\n      <td>2091</td>\n      <td>1927</td>\n      <td>1692</td>\n      <td>1803</td>\n      <td>1780</td>\n      <td>28</td>\n    </tr>\n    <tr>\n      <th>Psychic</th>\n      <td>21706</td>\n      <td>27129</td>\n      <td>4026</td>\n      <td>4073</td>\n      <td>3858</td>\n      <td>5609</td>\n      <td>4918</td>\n      <td>4645</td>\n      <td>57</td>\n    </tr>\n    <tr>\n      <th>Rock</th>\n      <td>17280</td>\n      <td>19965</td>\n      <td>2876</td>\n      <td>4086</td>\n      <td>4435</td>\n      <td>2787</td>\n      <td>3321</td>\n      <td>2460</td>\n      <td>44</td>\n    </tr>\n    <tr>\n      <th>Steel</th>\n      <td>11957</td>\n      <td>13168</td>\n      <td>1761</td>\n      <td>2503</td>\n      <td>3412</td>\n      <td>1823</td>\n      <td>2177</td>\n      <td>1492</td>\n      <td>27</td>\n    </tr>\n    <tr>\n      <th>Water</th>\n      <td>33946</td>\n      <td>48211</td>\n      <td>8071</td>\n      <td>8305</td>\n      <td>8170</td>\n      <td>8379</td>\n      <td>7898</td>\n      <td>7388</td>\n      <td>112</td>\n    </tr>\n  </tbody>\n</table>\n<p>18 rows × 9 columns</p>\n</div>"
     },
     "metadata": {},
     "execution_count": 79
    }
   ],
   "source": [
    "# This doesn't really make sense to do in this scenario but whatever\n",
    "df.groupby(['Type 1']).sum()\n"
   ]
  },
  {
   "cell_type": "code",
   "execution_count": 80,
   "metadata": {},
   "outputs": [
    {
     "output_type": "execute_result",
     "data": {
      "text/plain": [
       "            #  Name  Type 2  Legendary  Total   HP  Attack  Defense  Sp. Atk  \\\n",
       "Type 1                                                                         \n",
       "Bug        69    69      52         69     69   69      69       69       69   \n",
       "Dark       31    31      21         31     31   31      31       31       31   \n",
       "Dragon     32    32      21         32     32   32      32       32       32   \n",
       "Electric   44    44      17         44     44   44      44       44       44   \n",
       "Fairy      17    17       2         17     17   17      17       17       17   \n",
       "...       ...   ...     ...        ...    ...  ...     ...      ...      ...   \n",
       "Poison     28    28      13         28     28   28      28       28       28   \n",
       "Psychic    57    57      19         57     57   57      57       57       57   \n",
       "Rock       44    44      35         44     44   44      44       44       44   \n",
       "Steel      27    27      22         27     27   27      27       27       27   \n",
       "Water     112   112      53        112    112  112     112      112      112   \n",
       "\n",
       "          Sp. Def  Speed  Generation  count  \n",
       "Type 1                                       \n",
       "Bug            69     69          69     69  \n",
       "Dark           31     31          31     31  \n",
       "Dragon         32     32          32     32  \n",
       "Electric       44     44          44     44  \n",
       "Fairy          17     17          17     17  \n",
       "...           ...    ...         ...    ...  \n",
       "Poison         28     28          28     28  \n",
       "Psychic        57     57          57     57  \n",
       "Rock           44     44          44     44  \n",
       "Steel          27     27          27     27  \n",
       "Water         112    112         112    112  \n",
       "\n",
       "[18 rows x 13 columns]"
      ],
      "text/html": "<div>\n<style scoped>\n    .dataframe tbody tr th:only-of-type {\n        vertical-align: middle;\n    }\n\n    .dataframe tbody tr th {\n        vertical-align: top;\n    }\n\n    .dataframe thead th {\n        text-align: right;\n    }\n</style>\n<table border=\"1\" class=\"dataframe\">\n  <thead>\n    <tr style=\"text-align: right;\">\n      <th></th>\n      <th>#</th>\n      <th>Name</th>\n      <th>Type 2</th>\n      <th>Legendary</th>\n      <th>Total</th>\n      <th>HP</th>\n      <th>Attack</th>\n      <th>Defense</th>\n      <th>Sp. Atk</th>\n      <th>Sp. Def</th>\n      <th>Speed</th>\n      <th>Generation</th>\n      <th>count</th>\n    </tr>\n    <tr>\n      <th>Type 1</th>\n      <th></th>\n      <th></th>\n      <th></th>\n      <th></th>\n      <th></th>\n      <th></th>\n      <th></th>\n      <th></th>\n      <th></th>\n      <th></th>\n      <th></th>\n      <th></th>\n      <th></th>\n    </tr>\n  </thead>\n  <tbody>\n    <tr>\n      <th>Bug</th>\n      <td>69</td>\n      <td>69</td>\n      <td>52</td>\n      <td>69</td>\n      <td>69</td>\n      <td>69</td>\n      <td>69</td>\n      <td>69</td>\n      <td>69</td>\n      <td>69</td>\n      <td>69</td>\n      <td>69</td>\n      <td>69</td>\n    </tr>\n    <tr>\n      <th>Dark</th>\n      <td>31</td>\n      <td>31</td>\n      <td>21</td>\n      <td>31</td>\n      <td>31</td>\n      <td>31</td>\n      <td>31</td>\n      <td>31</td>\n      <td>31</td>\n      <td>31</td>\n      <td>31</td>\n      <td>31</td>\n      <td>31</td>\n    </tr>\n    <tr>\n      <th>Dragon</th>\n      <td>32</td>\n      <td>32</td>\n      <td>21</td>\n      <td>32</td>\n      <td>32</td>\n      <td>32</td>\n      <td>32</td>\n      <td>32</td>\n      <td>32</td>\n      <td>32</td>\n      <td>32</td>\n      <td>32</td>\n      <td>32</td>\n    </tr>\n    <tr>\n      <th>Electric</th>\n      <td>44</td>\n      <td>44</td>\n      <td>17</td>\n      <td>44</td>\n      <td>44</td>\n      <td>44</td>\n      <td>44</td>\n      <td>44</td>\n      <td>44</td>\n      <td>44</td>\n      <td>44</td>\n      <td>44</td>\n      <td>44</td>\n    </tr>\n    <tr>\n      <th>Fairy</th>\n      <td>17</td>\n      <td>17</td>\n      <td>2</td>\n      <td>17</td>\n      <td>17</td>\n      <td>17</td>\n      <td>17</td>\n      <td>17</td>\n      <td>17</td>\n      <td>17</td>\n      <td>17</td>\n      <td>17</td>\n      <td>17</td>\n    </tr>\n    <tr>\n      <th>...</th>\n      <td>...</td>\n      <td>...</td>\n      <td>...</td>\n      <td>...</td>\n      <td>...</td>\n      <td>...</td>\n      <td>...</td>\n      <td>...</td>\n      <td>...</td>\n      <td>...</td>\n      <td>...</td>\n      <td>...</td>\n      <td>...</td>\n    </tr>\n    <tr>\n      <th>Poison</th>\n      <td>28</td>\n      <td>28</td>\n      <td>13</td>\n      <td>28</td>\n      <td>28</td>\n      <td>28</td>\n      <td>28</td>\n      <td>28</td>\n      <td>28</td>\n      <td>28</td>\n      <td>28</td>\n      <td>28</td>\n      <td>28</td>\n    </tr>\n    <tr>\n      <th>Psychic</th>\n      <td>57</td>\n      <td>57</td>\n      <td>19</td>\n      <td>57</td>\n      <td>57</td>\n      <td>57</td>\n      <td>57</td>\n      <td>57</td>\n      <td>57</td>\n      <td>57</td>\n      <td>57</td>\n      <td>57</td>\n      <td>57</td>\n    </tr>\n    <tr>\n      <th>Rock</th>\n      <td>44</td>\n      <td>44</td>\n      <td>35</td>\n      <td>44</td>\n      <td>44</td>\n      <td>44</td>\n      <td>44</td>\n      <td>44</td>\n      <td>44</td>\n      <td>44</td>\n      <td>44</td>\n      <td>44</td>\n      <td>44</td>\n    </tr>\n    <tr>\n      <th>Steel</th>\n      <td>27</td>\n      <td>27</td>\n      <td>22</td>\n      <td>27</td>\n      <td>27</td>\n      <td>27</td>\n      <td>27</td>\n      <td>27</td>\n      <td>27</td>\n      <td>27</td>\n      <td>27</td>\n      <td>27</td>\n      <td>27</td>\n    </tr>\n    <tr>\n      <th>Water</th>\n      <td>112</td>\n      <td>112</td>\n      <td>53</td>\n      <td>112</td>\n      <td>112</td>\n      <td>112</td>\n      <td>112</td>\n      <td>112</td>\n      <td>112</td>\n      <td>112</td>\n      <td>112</td>\n      <td>112</td>\n      <td>112</td>\n    </tr>\n  </tbody>\n</table>\n<p>18 rows × 13 columns</p>\n</div>"
     },
     "metadata": {},
     "execution_count": 80
    }
   ],
   "source": [
    "# Num of pokemon that are of dif Type 1's\n",
    "df.groupby(['Type 1']).count()"
   ]
  },
  {
   "cell_type": "code",
   "execution_count": 81,
   "metadata": {},
   "outputs": [
    {
     "output_type": "execute_result",
     "data": {
      "text/plain": [
       "Type 1\n",
       "Bug          69\n",
       "Dark         31\n",
       "Dragon       32\n",
       "Electric     44\n",
       "Fairy        17\n",
       "           ... \n",
       "Poison       28\n",
       "Psychic      57\n",
       "Rock         44\n",
       "Steel        27\n",
       "Water       112\n",
       "Name: count, Length: 18, dtype: int64"
      ]
     },
     "metadata": {},
     "execution_count": 81
    }
   ],
   "source": [
    "# OR Num of pokemon that are of dif Type 1's (but see how type 2 has 52 instead of 69 for first row)\n",
    "# That is bc it's skipping rows that are blank\n",
    "# So deal w that by just looking at the count column\n",
    "df['count'] = 1\n",
    "df.groupby(['Type 1']).count()['count']"
   ]
  },
  {
   "cell_type": "code",
   "execution_count": 82,
   "metadata": {},
   "outputs": [
    {
     "output_type": "execute_result",
     "data": {
      "text/plain": [
       "Type 1  Type 2  \n",
       "Bug     Electric     2\n",
       "        Fighting     2\n",
       "        Fire         2\n",
       "        Flying      14\n",
       "        Ghost        1\n",
       "                    ..\n",
       "Water   Ice          3\n",
       "        Poison       3\n",
       "        Psychic      5\n",
       "        Rock         4\n",
       "        Steel        1\n",
       "Name: count, Length: 136, dtype: int64"
      ]
     },
     "metadata": {},
     "execution_count": 82
    }
   ],
   "source": [
    "# Can also group by multiple parameters (to see subsets)\n",
    "df.groupby(['Type 1', 'Type 2']).count()['count']"
   ]
  },
  {
   "cell_type": "code",
   "execution_count": 88,
   "metadata": {},
   "outputs": [
    {
     "output_type": "execute_result",
     "data": {
      "text/plain": [
       "       #                   Name   Type 1  Type 2   Legendary  Total  HP  \\\n",
       "0      1              Bulbasaur    Grass  Poison       False    318  45   \n",
       "1      2                Ivysaur    Grass  Poison       False    405  60   \n",
       "2      3               Venusaur    Grass  Poison  Test Val 2    525  80   \n",
       "3      3  VenusaurMega Venusaur    Grass  Poison  Test Val 2    625  80   \n",
       "4      4             Charmander   Flamer     NaN       False    309  39   \n",
       "..   ...                    ...      ...     ...         ...    ...  ..   \n",
       "795  719                Diancie     Rock   Fairy  Test Val 2    600  50   \n",
       "796  719    DiancieMega Diancie     Rock   Fairy  Test Val 2    700  50   \n",
       "797  720    HoopaHoopa Confined  Psychic   Ghost  Test Val 2    600  80   \n",
       "798  720     HoopaHoopa Unbound  Psychic    Dark  Test Val 2    680  80   \n",
       "799  721              Volcanion   Flamer   Water  Test Val 2    600  80   \n",
       "\n",
       "     Attack  Defense  Sp. Atk  Sp. Def  Speed  Generation  \n",
       "0        49       49       65       65     45           1  \n",
       "1        62       63       80       80     60           1  \n",
       "2        82       83      100      100     80  Test Val 1  \n",
       "3       100      123      122      120     80  Test Val 1  \n",
       "4        52       43       60       50     65           1  \n",
       "..      ...      ...      ...      ...    ...         ...  \n",
       "795     100      150      100      150     50  Test Val 1  \n",
       "796     160      110      160      110    110  Test Val 1  \n",
       "797     110       60      150      130     70  Test Val 1  \n",
       "798     160       60      170      130     80  Test Val 1  \n",
       "799     110      120      130       90     70  Test Val 1  \n",
       "\n",
       "[800 rows x 13 columns]"
      ],
      "text/html": "<div>\n<style scoped>\n    .dataframe tbody tr th:only-of-type {\n        vertical-align: middle;\n    }\n\n    .dataframe tbody tr th {\n        vertical-align: top;\n    }\n\n    .dataframe thead th {\n        text-align: right;\n    }\n</style>\n<table border=\"1\" class=\"dataframe\">\n  <thead>\n    <tr style=\"text-align: right;\">\n      <th></th>\n      <th>#</th>\n      <th>Name</th>\n      <th>Type 1</th>\n      <th>Type 2</th>\n      <th>Legendary</th>\n      <th>Total</th>\n      <th>HP</th>\n      <th>Attack</th>\n      <th>Defense</th>\n      <th>Sp. Atk</th>\n      <th>Sp. Def</th>\n      <th>Speed</th>\n      <th>Generation</th>\n    </tr>\n  </thead>\n  <tbody>\n    <tr>\n      <th>0</th>\n      <td>1</td>\n      <td>Bulbasaur</td>\n      <td>Grass</td>\n      <td>Poison</td>\n      <td>False</td>\n      <td>318</td>\n      <td>45</td>\n      <td>49</td>\n      <td>49</td>\n      <td>65</td>\n      <td>65</td>\n      <td>45</td>\n      <td>1</td>\n    </tr>\n    <tr>\n      <th>1</th>\n      <td>2</td>\n      <td>Ivysaur</td>\n      <td>Grass</td>\n      <td>Poison</td>\n      <td>False</td>\n      <td>405</td>\n      <td>60</td>\n      <td>62</td>\n      <td>63</td>\n      <td>80</td>\n      <td>80</td>\n      <td>60</td>\n      <td>1</td>\n    </tr>\n    <tr>\n      <th>2</th>\n      <td>3</td>\n      <td>Venusaur</td>\n      <td>Grass</td>\n      <td>Poison</td>\n      <td>Test Val 2</td>\n      <td>525</td>\n      <td>80</td>\n      <td>82</td>\n      <td>83</td>\n      <td>100</td>\n      <td>100</td>\n      <td>80</td>\n      <td>Test Val 1</td>\n    </tr>\n    <tr>\n      <th>3</th>\n      <td>3</td>\n      <td>VenusaurMega Venusaur</td>\n      <td>Grass</td>\n      <td>Poison</td>\n      <td>Test Val 2</td>\n      <td>625</td>\n      <td>80</td>\n      <td>100</td>\n      <td>123</td>\n      <td>122</td>\n      <td>120</td>\n      <td>80</td>\n      <td>Test Val 1</td>\n    </tr>\n    <tr>\n      <th>4</th>\n      <td>4</td>\n      <td>Charmander</td>\n      <td>Flamer</td>\n      <td>NaN</td>\n      <td>False</td>\n      <td>309</td>\n      <td>39</td>\n      <td>52</td>\n      <td>43</td>\n      <td>60</td>\n      <td>50</td>\n      <td>65</td>\n      <td>1</td>\n    </tr>\n    <tr>\n      <th>...</th>\n      <td>...</td>\n      <td>...</td>\n      <td>...</td>\n      <td>...</td>\n      <td>...</td>\n      <td>...</td>\n      <td>...</td>\n      <td>...</td>\n      <td>...</td>\n      <td>...</td>\n      <td>...</td>\n      <td>...</td>\n      <td>...</td>\n    </tr>\n    <tr>\n      <th>795</th>\n      <td>719</td>\n      <td>Diancie</td>\n      <td>Rock</td>\n      <td>Fairy</td>\n      <td>Test Val 2</td>\n      <td>600</td>\n      <td>50</td>\n      <td>100</td>\n      <td>150</td>\n      <td>100</td>\n      <td>150</td>\n      <td>50</td>\n      <td>Test Val 1</td>\n    </tr>\n    <tr>\n      <th>796</th>\n      <td>719</td>\n      <td>DiancieMega Diancie</td>\n      <td>Rock</td>\n      <td>Fairy</td>\n      <td>Test Val 2</td>\n      <td>700</td>\n      <td>50</td>\n      <td>160</td>\n      <td>110</td>\n      <td>160</td>\n      <td>110</td>\n      <td>110</td>\n      <td>Test Val 1</td>\n    </tr>\n    <tr>\n      <th>797</th>\n      <td>720</td>\n      <td>HoopaHoopa Confined</td>\n      <td>Psychic</td>\n      <td>Ghost</td>\n      <td>Test Val 2</td>\n      <td>600</td>\n      <td>80</td>\n      <td>110</td>\n      <td>60</td>\n      <td>150</td>\n      <td>130</td>\n      <td>70</td>\n      <td>Test Val 1</td>\n    </tr>\n    <tr>\n      <th>798</th>\n      <td>720</td>\n      <td>HoopaHoopa Unbound</td>\n      <td>Psychic</td>\n      <td>Dark</td>\n      <td>Test Val 2</td>\n      <td>680</td>\n      <td>80</td>\n      <td>160</td>\n      <td>60</td>\n      <td>170</td>\n      <td>130</td>\n      <td>80</td>\n      <td>Test Val 1</td>\n    </tr>\n    <tr>\n      <th>799</th>\n      <td>721</td>\n      <td>Volcanion</td>\n      <td>Flamer</td>\n      <td>Water</td>\n      <td>Test Val 2</td>\n      <td>600</td>\n      <td>80</td>\n      <td>110</td>\n      <td>120</td>\n      <td>130</td>\n      <td>90</td>\n      <td>70</td>\n      <td>Test Val 1</td>\n    </tr>\n  </tbody>\n</table>\n<p>800 rows × 13 columns</p>\n</div>"
     },
     "metadata": {},
     "execution_count": 88
    }
   ],
   "source": [
    "# Will first remove count column\n",
    "df = df.drop(columns = ['count'])\n",
    "df"
   ]
  },
  {
   "cell_type": "code",
   "execution_count": 89,
   "metadata": {},
   "outputs": [
    {
     "output_type": "execute_result",
     "data": {
      "text/plain": [
       "                   #       Total         HP      Attack     Defense  \\\n",
       "Type 1                                                                \n",
       "Steel     442.851852  487.703704  65.222222   92.703704  126.370370   \n",
       "Rock      392.727273  453.750000  65.363636   92.863636  100.795455   \n",
       "Dragon    474.375000  550.531250  83.312500  112.125000   86.375000   \n",
       "Ground    356.281250  437.500000  73.781250   95.750000   84.843750   \n",
       "Ghost     486.500000  439.562500  64.437500   73.781250   81.187500   \n",
       "...              ...         ...        ...         ...         ...   \n",
       "Electric  363.500000  443.409091  59.795455   69.090909   66.295455   \n",
       "Flying    677.750000  485.000000  70.750000   78.750000   66.250000   \n",
       "Fighting  363.851852  416.444444  69.851852   96.777778   65.925926   \n",
       "Fairy     449.529412  413.176471  74.117647   61.529412   65.705882   \n",
       "Normal    319.173469  401.683673  77.275510   73.469388   59.846939   \n",
       "\n",
       "            Sp. Atk    Sp. Def       Speed  \n",
       "Type 1                                      \n",
       "Steel     67.518519  80.629630   55.259259  \n",
       "Rock      63.340909  75.477273   55.909091  \n",
       "Dragon    96.843750  88.843750   83.031250  \n",
       "Ground    56.468750  62.750000   63.906250  \n",
       "Ghost     79.343750  76.468750   64.343750  \n",
       "...             ...        ...         ...  \n",
       "Electric  90.022727  73.704545   84.500000  \n",
       "Flying    94.250000  72.500000  102.500000  \n",
       "Fighting  53.111111  64.703704   66.074074  \n",
       "Fairy     78.529412  84.705882   48.588235  \n",
       "Normal    55.816327  63.724490   71.551020  \n",
       "\n",
       "[18 rows x 8 columns]"
      ],
      "text/html": "<div>\n<style scoped>\n    .dataframe tbody tr th:only-of-type {\n        vertical-align: middle;\n    }\n\n    .dataframe tbody tr th {\n        vertical-align: top;\n    }\n\n    .dataframe thead th {\n        text-align: right;\n    }\n</style>\n<table border=\"1\" class=\"dataframe\">\n  <thead>\n    <tr style=\"text-align: right;\">\n      <th></th>\n      <th>#</th>\n      <th>Total</th>\n      <th>HP</th>\n      <th>Attack</th>\n      <th>Defense</th>\n      <th>Sp. Atk</th>\n      <th>Sp. Def</th>\n      <th>Speed</th>\n    </tr>\n    <tr>\n      <th>Type 1</th>\n      <th></th>\n      <th></th>\n      <th></th>\n      <th></th>\n      <th></th>\n      <th></th>\n      <th></th>\n      <th></th>\n    </tr>\n  </thead>\n  <tbody>\n    <tr>\n      <th>Steel</th>\n      <td>442.851852</td>\n      <td>487.703704</td>\n      <td>65.222222</td>\n      <td>92.703704</td>\n      <td>126.370370</td>\n      <td>67.518519</td>\n      <td>80.629630</td>\n      <td>55.259259</td>\n    </tr>\n    <tr>\n      <th>Rock</th>\n      <td>392.727273</td>\n      <td>453.750000</td>\n      <td>65.363636</td>\n      <td>92.863636</td>\n      <td>100.795455</td>\n      <td>63.340909</td>\n      <td>75.477273</td>\n      <td>55.909091</td>\n    </tr>\n    <tr>\n      <th>Dragon</th>\n      <td>474.375000</td>\n      <td>550.531250</td>\n      <td>83.312500</td>\n      <td>112.125000</td>\n      <td>86.375000</td>\n      <td>96.843750</td>\n      <td>88.843750</td>\n      <td>83.031250</td>\n    </tr>\n    <tr>\n      <th>Ground</th>\n      <td>356.281250</td>\n      <td>437.500000</td>\n      <td>73.781250</td>\n      <td>95.750000</td>\n      <td>84.843750</td>\n      <td>56.468750</td>\n      <td>62.750000</td>\n      <td>63.906250</td>\n    </tr>\n    <tr>\n      <th>Ghost</th>\n      <td>486.500000</td>\n      <td>439.562500</td>\n      <td>64.437500</td>\n      <td>73.781250</td>\n      <td>81.187500</td>\n      <td>79.343750</td>\n      <td>76.468750</td>\n      <td>64.343750</td>\n    </tr>\n    <tr>\n      <th>...</th>\n      <td>...</td>\n      <td>...</td>\n      <td>...</td>\n      <td>...</td>\n      <td>...</td>\n      <td>...</td>\n      <td>...</td>\n      <td>...</td>\n    </tr>\n    <tr>\n      <th>Electric</th>\n      <td>363.500000</td>\n      <td>443.409091</td>\n      <td>59.795455</td>\n      <td>69.090909</td>\n      <td>66.295455</td>\n      <td>90.022727</td>\n      <td>73.704545</td>\n      <td>84.500000</td>\n    </tr>\n    <tr>\n      <th>Flying</th>\n      <td>677.750000</td>\n      <td>485.000000</td>\n      <td>70.750000</td>\n      <td>78.750000</td>\n      <td>66.250000</td>\n      <td>94.250000</td>\n      <td>72.500000</td>\n      <td>102.500000</td>\n    </tr>\n    <tr>\n      <th>Fighting</th>\n      <td>363.851852</td>\n      <td>416.444444</td>\n      <td>69.851852</td>\n      <td>96.777778</td>\n      <td>65.925926</td>\n      <td>53.111111</td>\n      <td>64.703704</td>\n      <td>66.074074</td>\n    </tr>\n    <tr>\n      <th>Fairy</th>\n      <td>449.529412</td>\n      <td>413.176471</td>\n      <td>74.117647</td>\n      <td>61.529412</td>\n      <td>65.705882</td>\n      <td>78.529412</td>\n      <td>84.705882</td>\n      <td>48.588235</td>\n    </tr>\n    <tr>\n      <th>Normal</th>\n      <td>319.173469</td>\n      <td>401.683673</td>\n      <td>77.275510</td>\n      <td>73.469388</td>\n      <td>59.846939</td>\n      <td>55.816327</td>\n      <td>63.724490</td>\n      <td>71.551020</td>\n    </tr>\n  </tbody>\n</table>\n<p>18 rows × 8 columns</p>\n</div>"
     },
     "metadata": {},
     "execution_count": 89
    }
   ],
   "source": [
    "# Now sort stats based on defense\n",
    "# We can now see that steel pokemon have the highest defense\n",
    "df.groupby(['Type 1']).mean().sort_values('Defense', ascending = False)"
   ]
  },
  {
   "source": [
    "## Working w Large Amounts of Data"
   ],
   "cell_type": "markdown",
   "metadata": {}
  },
  {
   "cell_type": "code",
   "execution_count": null,
   "metadata": {},
   "outputs": [],
   "source": [
    "# Chunksize = 5 means we are only reading in 5 rows at a time\n",
    "# Can do this when reading in large amounts of data\n",
    "# So if we have a really large file can set chunksize = 10 000 or 100 000\n",
    "df = pd.read_csv('pokemon_data.csv', chunksize= 5)\n",
    "\n",
    "# Will do loop to read in all lines\n",
    "for df in pd.read_csv('pokemon_data.csv', chunksize= 5):\n",
    "    print(\"Getting new chunk\")"
   ]
  },
  {
   "cell_type": "code",
   "execution_count": 90,
   "metadata": {},
   "outputs": [
    {
     "output_type": "execute_result",
     "data": {
      "text/plain": [
       "Empty DataFrame\n",
       "Columns: [#, Name, Type 1, Type 2, Legendary, Total, HP, Attack, Defense, Sp. Atk, Sp. Def, Speed, Generation]\n",
       "Index: []"
      ],
      "text/html": "<div>\n<style scoped>\n    .dataframe tbody tr th:only-of-type {\n        vertical-align: middle;\n    }\n\n    .dataframe tbody tr th {\n        vertical-align: top;\n    }\n\n    .dataframe thead th {\n        text-align: right;\n    }\n</style>\n<table border=\"1\" class=\"dataframe\">\n  <thead>\n    <tr style=\"text-align: right;\">\n      <th></th>\n      <th>#</th>\n      <th>Name</th>\n      <th>Type 1</th>\n      <th>Type 2</th>\n      <th>Legendary</th>\n      <th>Total</th>\n      <th>HP</th>\n      <th>Attack</th>\n      <th>Defense</th>\n      <th>Sp. Atk</th>\n      <th>Sp. Def</th>\n      <th>Speed</th>\n      <th>Generation</th>\n    </tr>\n  </thead>\n  <tbody>\n  </tbody>\n</table>\n</div>"
     },
     "metadata": {},
     "execution_count": 90
    }
   ],
   "source": [
    "# To create a new df that is empty but w the same cols as your old df\n",
    "new_df = pd.DataFrame(columns= df.columns)\n",
    "new_df"
   ]
  },
  {
   "cell_type": "code",
   "execution_count": 91,
   "metadata": {},
   "outputs": [
    {
     "output_type": "execute_result",
     "data": {
      "text/plain": [
       "         # Name Type 1 Type 2 Legendary Total HP Attack Defense Sp. Atk  \\\n",
       "Fire     1    1    NaN      0         1   NaN  1      1       1       1   \n",
       "Grass    4    4    NaN      4         4   NaN  4      4       4       4   \n",
       "Fire     4    4    NaN      3         4   NaN  4      4       4       4   \n",
       "Water    1    1    NaN      0         1   NaN  1      1       1       1   \n",
       "Bug      2    2    NaN      0         2   NaN  2      2       2       2   \n",
       "...     ..  ...    ...    ...       ...   ... ..    ...     ...     ...   \n",
       "Fairy    1    1    NaN      0         1   NaN  1      1       1       1   \n",
       "Flying   2    2    NaN      2         2   NaN  2      2       2       2   \n",
       "Fire     1    1    NaN      1         1   NaN  1      1       1       1   \n",
       "Psychic  2    2    NaN      2         2   NaN  2      2       2       2   \n",
       "Rock     2    2    NaN      2         2   NaN  2      2       2       2   \n",
       "\n",
       "        Sp. Def Speed Generation  \n",
       "Fire          1     1          1  \n",
       "Grass         4     4          4  \n",
       "Fire          4     4          4  \n",
       "Water         1     1          1  \n",
       "Bug           2     2          2  \n",
       "...         ...   ...        ...  \n",
       "Fairy         1     1          1  \n",
       "Flying        2     2          2  \n",
       "Fire          1     1          1  \n",
       "Psychic       2     2          2  \n",
       "Rock          2     2          2  \n",
       "\n",
       "[433 rows x 13 columns]"
      ],
      "text/html": "<div>\n<style scoped>\n    .dataframe tbody tr th:only-of-type {\n        vertical-align: middle;\n    }\n\n    .dataframe tbody tr th {\n        vertical-align: top;\n    }\n\n    .dataframe thead th {\n        text-align: right;\n    }\n</style>\n<table border=\"1\" class=\"dataframe\">\n  <thead>\n    <tr style=\"text-align: right;\">\n      <th></th>\n      <th>#</th>\n      <th>Name</th>\n      <th>Type 1</th>\n      <th>Type 2</th>\n      <th>Legendary</th>\n      <th>Total</th>\n      <th>HP</th>\n      <th>Attack</th>\n      <th>Defense</th>\n      <th>Sp. Atk</th>\n      <th>Sp. Def</th>\n      <th>Speed</th>\n      <th>Generation</th>\n    </tr>\n  </thead>\n  <tbody>\n    <tr>\n      <th>Fire</th>\n      <td>1</td>\n      <td>1</td>\n      <td>NaN</td>\n      <td>0</td>\n      <td>1</td>\n      <td>NaN</td>\n      <td>1</td>\n      <td>1</td>\n      <td>1</td>\n      <td>1</td>\n      <td>1</td>\n      <td>1</td>\n      <td>1</td>\n    </tr>\n    <tr>\n      <th>Grass</th>\n      <td>4</td>\n      <td>4</td>\n      <td>NaN</td>\n      <td>4</td>\n      <td>4</td>\n      <td>NaN</td>\n      <td>4</td>\n      <td>4</td>\n      <td>4</td>\n      <td>4</td>\n      <td>4</td>\n      <td>4</td>\n      <td>4</td>\n    </tr>\n    <tr>\n      <th>Fire</th>\n      <td>4</td>\n      <td>4</td>\n      <td>NaN</td>\n      <td>3</td>\n      <td>4</td>\n      <td>NaN</td>\n      <td>4</td>\n      <td>4</td>\n      <td>4</td>\n      <td>4</td>\n      <td>4</td>\n      <td>4</td>\n      <td>4</td>\n    </tr>\n    <tr>\n      <th>Water</th>\n      <td>1</td>\n      <td>1</td>\n      <td>NaN</td>\n      <td>0</td>\n      <td>1</td>\n      <td>NaN</td>\n      <td>1</td>\n      <td>1</td>\n      <td>1</td>\n      <td>1</td>\n      <td>1</td>\n      <td>1</td>\n      <td>1</td>\n    </tr>\n    <tr>\n      <th>Bug</th>\n      <td>2</td>\n      <td>2</td>\n      <td>NaN</td>\n      <td>0</td>\n      <td>2</td>\n      <td>NaN</td>\n      <td>2</td>\n      <td>2</td>\n      <td>2</td>\n      <td>2</td>\n      <td>2</td>\n      <td>2</td>\n      <td>2</td>\n    </tr>\n    <tr>\n      <th>...</th>\n      <td>...</td>\n      <td>...</td>\n      <td>...</td>\n      <td>...</td>\n      <td>...</td>\n      <td>...</td>\n      <td>...</td>\n      <td>...</td>\n      <td>...</td>\n      <td>...</td>\n      <td>...</td>\n      <td>...</td>\n      <td>...</td>\n    </tr>\n    <tr>\n      <th>Fairy</th>\n      <td>1</td>\n      <td>1</td>\n      <td>NaN</td>\n      <td>0</td>\n      <td>1</td>\n      <td>NaN</td>\n      <td>1</td>\n      <td>1</td>\n      <td>1</td>\n      <td>1</td>\n      <td>1</td>\n      <td>1</td>\n      <td>1</td>\n    </tr>\n    <tr>\n      <th>Flying</th>\n      <td>2</td>\n      <td>2</td>\n      <td>NaN</td>\n      <td>2</td>\n      <td>2</td>\n      <td>NaN</td>\n      <td>2</td>\n      <td>2</td>\n      <td>2</td>\n      <td>2</td>\n      <td>2</td>\n      <td>2</td>\n      <td>2</td>\n    </tr>\n    <tr>\n      <th>Fire</th>\n      <td>1</td>\n      <td>1</td>\n      <td>NaN</td>\n      <td>1</td>\n      <td>1</td>\n      <td>NaN</td>\n      <td>1</td>\n      <td>1</td>\n      <td>1</td>\n      <td>1</td>\n      <td>1</td>\n      <td>1</td>\n      <td>1</td>\n    </tr>\n    <tr>\n      <th>Psychic</th>\n      <td>2</td>\n      <td>2</td>\n      <td>NaN</td>\n      <td>2</td>\n      <td>2</td>\n      <td>NaN</td>\n      <td>2</td>\n      <td>2</td>\n      <td>2</td>\n      <td>2</td>\n      <td>2</td>\n      <td>2</td>\n      <td>2</td>\n    </tr>\n    <tr>\n      <th>Rock</th>\n      <td>2</td>\n      <td>2</td>\n      <td>NaN</td>\n      <td>2</td>\n      <td>2</td>\n      <td>NaN</td>\n      <td>2</td>\n      <td>2</td>\n      <td>2</td>\n      <td>2</td>\n      <td>2</td>\n      <td>2</td>\n      <td>2</td>\n    </tr>\n  </tbody>\n</table>\n<p>433 rows × 13 columns</p>\n</div>"
     },
     "metadata": {},
     "execution_count": 91
    }
   ],
   "source": [
    "for df in pd.read_csv('pokemon_data.csv', chunksize= 5):\n",
    "    results = df.groupby(['Type 1']).count()\n",
    "    new_df = pd.concat([new_df, results])\n",
    "\n",
    "new_df"
   ]
  }
 ]
}